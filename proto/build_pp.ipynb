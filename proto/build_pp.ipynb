{
 "cells": [
  {
   "cell_type": "markdown",
   "id": "bc4a90ea",
   "metadata": {},
   "source": [
    "# PP-plot builder"
   ]
  },
  {
   "cell_type": "code",
   "execution_count": null,
   "id": "cf25b078",
   "metadata": {},
   "outputs": [],
   "source": [
    "import os\n",
    "\n",
    "import numpy as np\n",
    "from numpy import ndarray\n",
    "\n",
    "from matplotlib import pyplot as plt"
   ]
  },
  {
   "cell_type": "markdown",
   "id": "fbcece9e",
   "metadata": {},
   "source": [
    "We keep experiment data in CSV form"
   ]
  },
  {
   "cell_type": "code",
   "execution_count": null,
   "id": "1a5e3235",
   "metadata": {},
   "outputs": [],
   "source": [
    "import csv\n",
    "from typing import Iterable\n",
    "\n",
    "\n",
    "def read_csv(filename: str) -> Iterable[dict]:\n",
    "    \"\"\"Read the csv as an iterable of dicts\"\"\"\n",
    "    # use stdlib's csv package to read the comma-separated molecular data\n",
    "    with open(filename, \"rt\", newline=\"\") as f:\n",
    "        it = csv.reader(f, delimiter=\",\")\n",
    "\n",
    "        # get the header then represent rows a dicts\n",
    "        header = next(it)\n",
    "        for row in it:\n",
    "            yield dict(zip(header, row))"
   ]
  },
  {
   "cell_type": "markdown",
   "id": "c6952d27",
   "metadata": {},
   "source": [
    "A simple proc to collate a list of identically structured dicts into a dict of lists."
   ]
  },
  {
   "cell_type": "code",
   "execution_count": null,
   "id": "9c51a08d",
   "metadata": {},
   "outputs": [],
   "source": [
    "def collate(records: list[dict]) -> dict[..., list]:\n",
    "    \"\"\"Collate records assuming no fields are missing\"\"\"\n",
    "    out = {}\n",
    "    for rec in records:\n",
    "        for field, value in rec.items():\n",
    "            out.setdefault(field, []).append(value)\n",
    "\n",
    "    return {k: np.array(v) for k, v in out.items()}"
   ]
  },
  {
   "cell_type": "markdown",
   "id": "75c49670",
   "metadata": {},
   "source": [
    "Pick the table to plot"
   ]
  },
  {
   "cell_type": "code",
   "execution_count": null,
   "id": "13b060de",
   "metadata": {},
   "outputs": [],
   "source": [
    "# eval on Scavuzzo's 100 test instances\n",
    "filename = \"/Users/ivannazarov/Github/repos_with_rl/copt/rl2branch/cauctions_20221221-200625.csv\"\n",
    "\n",
    "# eval on OUR 1k instances w/o baseline heuristic\n",
    "# filename = \"/Users/ivannazarov/Github/repos_with_rl/copt/rl2branch/custom_20221222-021818.csv\"\n",
    "\n",
    "# eval on OUR 1k instances with baseline heuristic (incomplete due to signalling issue)\n",
    "filename = (\n",
    "    \"/Users/ivannazarov/Github/repos_with_rl/copt/rl2branch/custom_20221222-120628.csv\"\n",
    ")"
   ]
  },
  {
   "cell_type": "markdown",
   "id": "506285f7",
   "metadata": {},
   "source": [
    "We use the table format as in teh code repo of Scavuzzo et al. 2022:\n",
    "- `policy` -- the identifier of the branching policy\n",
    "- `seed` -- the opaque id of the replication (fixed randomness of SCIP)\n",
    "- `type` -- the kind of evaluation: `test` and `transfer` -- in theiur original code, `custom` -- in our patches\n",
    "- `instance` -- the path to the instance used for evaluation\n",
    "- `nnodes` -- the total number of nodes after solving\n",
    "- `nlps` -- the number of LP solver iterarions\n",
    "- `stime` -- the solution time as measured by SCIP using CPU seconds (`clocktype=1`)\n",
    "- `gap` -- the primal-dual gap achieved at the end of the bnb search\n",
    "- `status` -- SCIPs reported solution status\n",
    "- `walltime` -- the wall time of the solution process as measured by python\n",
    "- `proctime` -- the cpu time of the solution process as measured by python"
   ]
  },
  {
   "cell_type": "markdown",
   "id": "5c9e0582",
   "metadata": {},
   "source": [
    "Load the stats"
   ]
  },
  {
   "cell_type": "code",
   "execution_count": null,
   "id": "17976eb3",
   "metadata": {},
   "outputs": [],
   "source": [
    "metrics = {}\n",
    "for rec in read_csv(filename):\n",
    "    if rec[\"type\"] not in (\"test\", \"custom\"):\n",
    "        continue\n",
    "\n",
    "    # make sure not to pool valeus from different seeds\n",
    "    key = rec[\"policy\"], int(rec[\"seed\"])\n",
    "    metrics.setdefault(key, []).append(\n",
    "        {\n",
    "            \"n_nodes\": int(rec[\"nnodes\"]),\n",
    "            \"n_lps\": int(rec[\"nlps\"]),\n",
    "            \"f_soltime\": float(rec[\"stime\"]),\n",
    "            \"f_gap\": float(rec[\"gap\"]),\n",
    "        }\n",
    "    )\n",
    "\n",
    "metrics = {k: collate(v[:996]) for k, v in metrics.items()}"
   ]
  },
  {
   "cell_type": "markdown",
   "id": "e7505b82",
   "metadata": {},
   "source": [
    "The pp-curve drawing procedure. We compare distibutions using the pp-curve, which is analogous to the ROC curve: pp compares two independent distributions, while ROC compares the true-, false- positive distributions"
   ]
  },
  {
   "cell_type": "code",
   "execution_count": null,
   "id": "591f402c",
   "metadata": {},
   "outputs": [],
   "source": [
    "from toybnb.scip.ecole.il.plotting import pp_curve"
   ]
  },
  {
   "cell_type": "markdown",
   "id": "cb2c68da",
   "metadata": {},
   "source": [
    "Build the pp\n",
    "* `n_nodes`\n",
    "* `n_lpiter`\n",
    "* `f_soltime`\n",
    "* `f_gap`"
   ]
  },
  {
   "cell_type": "code",
   "execution_count": null,
   "id": "c186a34e",
   "metadata": {},
   "outputs": [],
   "source": [
    "series = \"n_nodes\"\n",
    "colors = {\n",
    "    \"internal:relpscost\": \"C0\",\n",
    "    \"internal:vanillafullstrong\": \"k\",\n",
    "    # \"internal:emulated-vanillafullstrong\": \"C1\",\n",
    "    \"gcnn:il\": \"C2\",\n",
    "    \"gcnn:mdp\": \"C3\",\n",
    "    \"gcnn:tmdp+DFS\": \"C4\",\n",
    "    \"gcnn:tmdp+ObjLim\": \"C5\",\n",
    "}\n",
    "\n",
    "# base = \"internal:relpscost\"  # very strong\n",
    "base = \"internal:vanillafullstrong\"\n",
    "# base = \"gcnn:il\"  # \"internal:vanillafullstrong\""
   ]
  },
  {
   "cell_type": "markdown",
   "id": "2db09a0c",
   "metadata": {},
   "source": [
    "Build the plot"
   ]
  },
  {
   "cell_type": "code",
   "execution_count": null,
   "id": "b3d29256",
   "metadata": {
    "scrolled": false
   },
   "outputs": [],
   "source": [
    "metric = {}\n",
    "for (k1, k2), v in metrics.items():\n",
    "    if k1 in colors:\n",
    "        out = metric.setdefault(k1, {})\n",
    "        out[k2] = v[series]\n",
    "\n",
    "pooled = {k: np.median(list(v.values()), 0) for k, v in metric.items()}\n",
    "\n",
    "fig, ax = plt.subplots(1, 1, figsize=(5, 5), dpi=200)\n",
    "for name, repl in metric.items():\n",
    "    if base == name:\n",
    "        continue\n",
    "\n",
    "    # plot the mean pp curve first, and then individual pp-s\n",
    "    p, q = pp_curve(x=pooled[base], y=pooled[name], num=None)\n",
    "    ax.plot(p, q, label=name, c=colors[name])\n",
    "    for _, data in repl.items():\n",
    "        p, q = pp_curve(x=pooled[base], y=data, num=None)\n",
    "        ax.plot(p, q, c=colors[name], alpha=0.15, zorder=-10)\n",
    "\n",
    "ax.plot((0, 1), (0, 1), c=colors[base], zorder=10, alpha=0.25, label=base)\n",
    "ax.set_xlim(-0.025, 1.025)\n",
    "ax.set_ylim(-0.025, 1.025)\n",
    "ax.set_aspect(1.0)\n",
    "ax.legend(loc=\"best\", fontsize=\"xx-small\")\n",
    "\n",
    "# fig.savefig(f\"dump/tmdp__{os.path.basename(filename)}.pdf\")"
   ]
  },
  {
   "cell_type": "markdown",
   "id": "eb7409c3",
   "metadata": {},
   "source": [
    "<br>"
   ]
  }
 ],
 "metadata": {
  "kernelspec": {
   "display_name": "Python 3 (ipykernel)",
   "language": "python",
   "name": "python3"
  },
  "language_info": {
   "codemirror_mode": {
    "name": "ipython",
    "version": 3
   },
   "file_extension": ".py",
   "mimetype": "text/x-python",
   "name": "python",
   "nbconvert_exporter": "python",
   "pygments_lexer": "ipython3",
   "version": "3.10.8"
  }
 },
 "nbformat": 4,
 "nbformat_minor": 5
}
