{
 "cells": [
  {
   "cell_type": "markdown",
   "id": "ffc4417e",
   "metadata": {},
   "source": [
    "# seeing how bad the toy is"
   ]
  },
  {
   "cell_type": "code",
   "execution_count": null,
   "id": "2af0d8ff",
   "metadata": {},
   "outputs": [],
   "source": [
    "import numpy as np\n",
    "from numpy import ndarray\n",
    "from numpy.random import default_rng\n",
    "\n",
    "from scipy import sparse as sp\n",
    "from matplotlib import pyplot as plt\n",
    "\n",
    "import networkx as nx"
   ]
  },
  {
   "cell_type": "markdown",
   "id": "b6ad591a",
   "metadata": {},
   "source": [
    "A proc to draw value paths in the toy bnb tree"
   ]
  },
  {
   "cell_type": "code",
   "execution_count": null,
   "id": "750c2d78",
   "metadata": {},
   "outputs": [],
   "source": [
    "from toybnb.tree import build_optresult\n",
    "\n",
    "\n",
    "def path_to_root(T: nx.DiGraph, node: int) -> list[int, ...]:\n",
    "    \"\"\"Ascent path to the root form the node.\"\"\"\n",
    "    path = [node]\n",
    "    while T.pred[node]:\n",
    "        node = next(iter(T.pred[node]))\n",
    "        path.append(node)\n",
    "\n",
    "    return path\n",
    "\n",
    "\n",
    "def path_to_best(T: nx.DiGraph) -> list[int, ...]:\n",
    "    \"\"\"Descend from the root down the tree to the best solution.\"\"\"\n",
    "    node = T.graph[\"root\"]\n",
    "    best = nx.get_node_attributes(T, \"best\")\n",
    "    path, inc = [node], T.graph[\"incumbent\"]\n",
    "    while T[node]:\n",
    "        for child in T[node]:\n",
    "            if best.get(child) is inc:\n",
    "                node = child\n",
    "                break\n",
    "        else:\n",
    "            break\n",
    "        path.append(node)\n",
    "\n",
    "    return path\n",
    "\n",
    "\n",
    "def get_value_paths(T: nx.DiGraph) -> dict[int, list]:\n",
    "    \"\"\"Extract the value function from the tree.\"\"\"\n",
    "    best = nx.get_node_attributes(T, \"best\")\n",
    "    leaves = [n for n in T if not T[n]]\n",
    "\n",
    "    vfn, nil = {}, build_optresult()\n",
    "    for leaf in leaves:\n",
    "        vf = vfn[leaf] = []\n",
    "        path = path_to_root(T, leaf)\n",
    "        for j, n in enumerate(reversed(path)):\n",
    "            b = best.get(n, nil) or nil\n",
    "            vf.append((j, b.fun))\n",
    "\n",
    "    return vfn"
   ]
  },
  {
   "cell_type": "markdown",
   "id": "928f6333",
   "metadata": {},
   "source": [
    "A proc to draw toy bnb trees (or from scip Tracer)"
   ]
  },
  {
   "cell_type": "code",
   "execution_count": null,
   "id": "bc7629b4",
   "metadata": {},
   "outputs": [],
   "source": [
    "from toybnb.tree import Status\n",
    "from matplotlib.collections import PatchCollection\n",
    "\n",
    "\n",
    "def draw_tree(T, pos=None, ax=None, nodelist=None):\n",
    "    ax = ax if ax is None else plt.gca()\n",
    "\n",
    "    st = nx.get_node_attributes(T, \"status\")\n",
    "    best = nx.get_node_attributes(T, \"best\")\n",
    "\n",
    "    # draw only open, feasible, or infeasible nodes only\n",
    "    allowed = {Status.OPEN, Status.INFEASIBLE, Status.FEASIBLE, Status.FATHOMED}\n",
    "    # INFEASIBLE, PRUNED, FEASIBLE -- fathomed node\n",
    "    # CLOSED -- no branching options, OPEN -- node yet to be explored\n",
    "    if nodelist is None:\n",
    "        nodelist = set([n for n, s in st.items() if s in allowed])\n",
    "        nodelist.update(path_to_best(T))\n",
    "\n",
    "    nodelist = list(nodelist)\n",
    "\n",
    "    # assign colors\n",
    "    nodecolor, inc = [], T.graph[\"incumbent\"]\n",
    "    for n in nodelist:\n",
    "        if inc is best.get(n):\n",
    "            nodecolor.append(\"C3\")\n",
    "            continue\n",
    "\n",
    "        match st[n]:\n",
    "            case Status.FEASIBLE:\n",
    "                nodecolor.append(\"C3\")\n",
    "            case Status.INFEASIBLE:\n",
    "                nodecolor.append(\"C2\")\n",
    "            case Status.OPEN:\n",
    "                nodecolor.append(\"fuchsia\")\n",
    "            case Status.FATHOMED:\n",
    "                nodecolor.append(\"C4\")\n",
    "            case _:\n",
    "                nodecolor.append(\"#0008\")\n",
    "\n",
    "    # plot the branching edges as lightly as possible\n",
    "    col = PatchCollection(\n",
    "        nx.draw_networkx_edges(\n",
    "            T,\n",
    "            pos,\n",
    "            ax=ax,\n",
    "            width=0.5,\n",
    "            node_size=0,\n",
    "            arrows=None,\n",
    "            arrowsize=0,\n",
    "            arrowstyle=\"-\",\n",
    "            edge_color=\"#0004\",\n",
    "        )\n",
    "    )\n",
    "    col.set_zorder(-10)\n",
    "\n",
    "    col = nx.draw_networkx_nodes(\n",
    "        T,\n",
    "        pos,\n",
    "        ax=ax,\n",
    "        node_size=1,\n",
    "        node_shape=\"s\",\n",
    "        nodelist=nodelist,\n",
    "        node_color=nodecolor,\n",
    "    )\n",
    "    col.set_zorder(10)\n",
    "\n",
    "    ax.set_frame_on(False)"
   ]
  },
  {
   "cell_type": "markdown",
   "id": "24761538",
   "metadata": {},
   "source": [
    "Invert out bnb solver at the branch variable selection, while still using the depth-first node selector."
   ]
  },
  {
   "cell_type": "code",
   "execution_count": null,
   "id": "76d9010a",
   "metadata": {},
   "outputs": [],
   "source": [
    "from toybnb.milp import MILP\n",
    "from toybnb import search as bnb\n",
    "from toybnb.coro import Coroutine\n",
    "\n",
    "\n",
    "def inverted_search(p: MILP) -> ...:\n",
    "    \"\"\"Inverted variable branching as generator\"\"\"\n",
    "\n",
    "    def branchrule(G: nx.DiGraph, node: int) -> int:\n",
    "        return co.co_yield((G, node))\n",
    "\n",
    "    args = p, bnb.nodesel_dfs, branchrule\n",
    "    co = Coroutine(bnb.search, args=args)\n",
    "    return iter(co)\n",
    "\n",
    "\n",
    "def branching(p: MILP) -> tuple[nx.DiGraph, int]:\n",
    "    \"\"\"Branching that allows each node to be visited only once\"\"\"\n",
    "    it, visited, var = inverted_search(p), set(), None\n",
    "    try:\n",
    "        while True:\n",
    "            G, node = it.send(var)\n",
    "            while node in visited:\n",
    "                G, node = it.throw(IndexError)\n",
    "\n",
    "            visited.add(node)\n",
    "            var = yield G, node\n",
    "            # it.gi_frame.f_locals[\"self\"].co_is_suspended\n",
    "\n",
    "    except StopIteration as e:\n",
    "        return e.value, None\n",
    "\n",
    "\n",
    "def send(it: iter, value: ...) -> ...:\n",
    "    \"\"\"Send a value to the generator and get a value from it in return\"\"\"\n",
    "    try:\n",
    "        return it.send(value), False\n",
    "    except StopIteration as e:\n",
    "        return e.value, True\n",
    "\n",
    "\n",
    "class GeneratorEnv:\n",
    "    \"\"\"A wrapper to make generators into envs.\"\"\"\n",
    "\n",
    "    def reset(self, it: iter) -> ...:\n",
    "        self.it = iter(it)\n",
    "        return send(self.it, None)\n",
    "\n",
    "    def step(self, act: ...) -> ...:\n",
    "        return send(self.it, act)"
   ]
  },
  {
   "cell_type": "markdown",
   "id": "41b75c0b",
   "metadata": {},
   "source": [
    "<br>"
   ]
  },
  {
   "cell_type": "markdown",
   "id": "a4024e5e",
   "metadata": {},
   "source": [
    "### ToyBNB tree"
   ]
  },
  {
   "cell_type": "markdown",
   "id": "6d53255a",
   "metadata": {},
   "source": [
    "Generate a simple problem and try to solve it with random variable branching."
   ]
  },
  {
   "cell_type": "code",
   "execution_count": null,
   "id": "b26c259e",
   "metadata": {},
   "outputs": [],
   "source": [
    "from tqdm import tqdm\n",
    "from toybnb.milp import generate\n",
    "\n",
    "# it = generate(1500, 1200, 5, seed=53912)\n",
    "it = generate(50, 38, 10, seed=1458)\n",
    "p = next(it)  # x = it.gi_frame.f_locals[\"p\"]\n",
    "\n",
    "with tqdm(ncols=70) as pb:\n",
    "    rng = default_rng()\n",
    "    env = GeneratorEnv()\n",
    "    (T, node), fin = env.reset(branching(p))\n",
    "    while not fin:\n",
    "        pb.update(1)\n",
    "        # pick a random index\n",
    "        dt = T.nodes[node]\n",
    "        mask = np.unpackbits(dt[\"mask\"], count=dt[\"p\"].n, bitorder=\"little\")\n",
    "        var = rng.choice(np.flatnonzero(mask))\n",
    "\n",
    "        # branch\n",
    "        (T, node), fin = env.step(var)\n",
    "    assert node is None"
   ]
  },
  {
   "cell_type": "markdown",
   "id": "8ab2c889",
   "metadata": {},
   "source": [
    "Plot the primal and dual bound history"
   ]
  },
  {
   "cell_type": "code",
   "execution_count": null,
   "id": "feb2fa60",
   "metadata": {},
   "outputs": [],
   "source": [
    "from matplotlib import pyplot as plt\n",
    "\n",
    "fig, ax = plt.subplots(1, 1, dpi=300)\n",
    "nn, pv, dv = map(np.array, zip(*T.graph[\"track\"]))\n",
    "ax.plot(dv)\n",
    "ax.plot(pv)"
   ]
  },
  {
   "cell_type": "markdown",
   "id": "09bfae66",
   "metadata": {},
   "source": [
    "Draw the value paths"
   ]
  },
  {
   "cell_type": "code",
   "execution_count": null,
   "id": "16f67e28",
   "metadata": {},
   "outputs": [],
   "source": [
    "vfn = get_value_paths(T)\n",
    "\n",
    "fig, ax = plt.subplots(1, 1, figsize=(10, 4), dpi=120)\n",
    "for leaf, vf in vfn.items():\n",
    "    ax.plot(*zip(*vf), label=leaf, c=\"C0\", alpha=0.24)"
   ]
  },
  {
   "cell_type": "markdown",
   "id": "58791d38",
   "metadata": {},
   "source": [
    "Draw the search tree"
   ]
  },
  {
   "cell_type": "code",
   "execution_count": null,
   "id": "1614a041",
   "metadata": {},
   "outputs": [],
   "source": [
    "pos = nx.nx_agraph.graphviz_layout(T, prog=\"dot\", args=\"\")"
   ]
  },
  {
   "cell_type": "code",
   "execution_count": null,
   "id": "eb6c69ce",
   "metadata": {},
   "outputs": [],
   "source": [
    "fig, ax = plt.subplots(1, 1, dpi=300)\n",
    "draw_tree(T, pos, ax)"
   ]
  },
  {
   "cell_type": "code",
   "execution_count": null,
   "id": "da0546f9",
   "metadata": {},
   "outputs": [],
   "source": [
    "T.nodes[0][\"best\"]"
   ]
  },
  {
   "cell_type": "markdown",
   "id": "ac295d0b",
   "metadata": {},
   "source": [
    "<br>"
   ]
  },
  {
   "cell_type": "markdown",
   "id": "d3aad781",
   "metadata": {},
   "source": [
    "### Strong branching"
   ]
  },
  {
   "cell_type": "markdown",
   "id": "d8164aa6",
   "metadata": {},
   "source": [
    "The lp-gains $\\Delta_\\pm$ are computed based on the left and right relaxation of the original problem. Let the original feasibility set and its continuous relaxation be, respecitvely,\n",
    "$$\n",
    "\\begin{align}\n",
    "S\n",
    "    &= \\bigl\\{\n",
    "        x \\in \\mathbb{Z}^m \\times \\mathbb{R}^{n-m}\n",
    "        \\colon A x \\leq b\n",
    "        \\,, x \\in [l, u] \n",
    "    \\bigr\\}\n",
    "    \\,, \\\\\n",
    "\\breve{S}\n",
    "    &= \\bigl\\{\n",
    "        x \\in \\mathbb{R}^n\n",
    "        \\colon A x \\leq b\n",
    "        \\,, x \\in [l, u] \n",
    "    \\bigr\\}\n",
    "    \\,.\n",
    "\\end{align}\n",
    "$$\n",
    "The optimization problem\n",
    "$$\n",
    "\\breve{f}\n",
    "    = \\min_x \\{\n",
    "        c^\\top x\\colon x \\in \\breve{S}\n",
    "    \\}\n",
    "    \\,, $$\n",
    "offers a lower bound on the achievable value of the objective in the integer-feasibile region $S$. If we happen to have a candidate (incumbent) $x_* \\notin S$ with $f^* = c^\\top x_*$, but integer-feasible in the __original problem's domain__, then $f^* < \\breve{f}$ is a certificate that no integer-feasible solutions better than $x$ can be found in $\\breve{S}$. This means that $S \\subseteq \\breve{S}$ maybe excluded from search."
   ]
  },
  {
   "cell_type": "markdown",
   "id": "75968768",
   "metadata": {},
   "source": [
    "If $\\breve{f} \\leq f^*$ and $\\breve{x} \\notin S$, there is some $j=1..m$ such that $\\breve{x}^j \\notin \\mathbb{Z}$. Since it would be impossible for any integer-feasible solution $x \\in S$ to have $\n",
    "    x^j \\in \\bigl(\n",
    "        \\lfloor \\breve{x}^j \\rfloor,\n",
    "        \\lceil \\breve{x}^j \\rceil\n",
    "    \\bigr)\n",
    "$, it becomes possible to split the original feasibility set $S$ in two non-adjacent subsets:\n",
    "$$\n",
    "    \\underbrace{\n",
    "        \\bigl\\{\n",
    "            % x \\colon\n",
    "            x^j \\leq \\lfloor \\breve{x}^j \\rfloor\n",
    "        \\bigr\\}  % \\times \\mathbb{R}^{n-1}\n",
    "    }_{R^j_-}\n",
    "    \\uplus\n",
    "    \\underbrace{\n",
    "        \\bigl\\{\n",
    "            % x \\colon\n",
    "            \\lceil \\breve{x}^j \\rceil \\geq x^j\n",
    "        \\bigr\\}  % \\times \\mathbb{R}^{n-1}\n",
    "    }_{R^j_+}\n",
    "    \\,.\n",
    "$$\n",
    "Note that it is sufficient to split the region $S$ with respect to one variable only, since every other split is guaranteed by integer-feasiblity __not__ to containt a feasible solution in the excluded region of the $j$-th variable."
   ]
  },
  {
   "cell_type": "markdown",
   "id": "697a595f",
   "metadata": {},
   "source": [
    "The sub-regions $\n",
    "    S^j_\\pm = S \\cap R^j_\\pm\n",
    "$ bring about new lower bounds $\n",
    "\\breve{f}^j_\\pm\n",
    "    = \\min_x \\{\n",
    "        c^\\top x\\colon x \\in \\breve{S}^j_\\pm\n",
    "    \\}\n",
    "$. The new sub-problems are obtained from the original by modifying the bounds of the $j$-th variable: $\n",
    "    \\bigl[l^j, \\lfloor \\breve{x}^j \\rfloor\\bigr]\n",
    "$ and $\n",
    "    \\bigl[\\lceil \\breve{x}^j \\rceil, u^j\\bigr]\n",
    "$. The amount of the objective value, by which each bound is thighened, is the _gain_:\n",
    "$$\n",
    "\\Delta^j_\\pm\n",
    "    = \\breve{f}^j_\\pm - \\breve{f}\n",
    "    \\geq 0\n",
    "    \\,. $$"
   ]
  },
  {
   "cell_type": "code",
   "execution_count": null,
   "id": "9a4c073e",
   "metadata": {},
   "outputs": [],
   "source": [
    "from toybnb.tree import lpsolve, OptimizeResult, split\n",
    "\n",
    "\n",
    "def get_lp_gains(\n",
    "    p: MILP, lp: OptimizeResult, mask: ndarray\n",
    ") -> tuple[ndarray, ndarray, int]:\n",
    "    \"\"\"Compute LP branching gains for each candidate variable in the binary mask.\"\"\"\n",
    "    lpiter = 0\n",
    "\n",
    "    # split by the variable, solve LPs, and record dual gains\n",
    "    gains = np.full((p.n, 2), np.nan)\n",
    "    for j in np.flatnonzero(mask):\n",
    "        lp_lo, lp_up = map(lpsolve, split(p, j, lp.x[j]))\n",
    "        gains[j] = lp_lo.fun - lp.fun, lp_up.fun - lp.fun\n",
    "        lpiter += lp_lo.nit + lp_up.nit\n",
    "\n",
    "    return gains.clip(0), lpiter"
   ]
  },
  {
   "cell_type": "markdown",
   "id": "25cac451",
   "metadata": {},
   "source": [
    "Scoring functions\n",
    "* additive $\n",
    "    s_j = \\mu \\max\\{\\Delta^j_-, \\Delta^j_+\\}\n",
    "        + (1 - \\mu) \\min\\{\\Delta^j_-, \\Delta^j_+\\}\n",
    "$\n",
    "* multiplicative $\n",
    "    s_j = \\Delta^j_- \\Delta^j_+\n",
    "$ -- the default scorefunc in SCIP"
   ]
  },
  {
   "cell_type": "code",
   "execution_count": null,
   "id": "0a99f273",
   "metadata": {},
   "outputs": [],
   "source": [
    "with tqdm(ncols=70) as pb:\n",
    "    n_lpit = 0\n",
    "    env = GeneratorEnv()\n",
    "    (T, node), fin = env.reset(branching(p))\n",
    "    while not fin:\n",
    "        pb.update(1)\n",
    "\n",
    "        dt = T.nodes[node]\n",
    "\n",
    "        # get the up-lo branching gains\n",
    "        mask = np.unpackbits(dt[\"mask\"], count=dt[\"p\"].n, bitorder=\"little\")\n",
    "        gains, nit = get_lp_gains(dt[\"p\"], dt[\"lp\"], mask)\n",
    "        n_lpit += nit\n",
    "\n",
    "        # scores = mu * gains.max(-1) + (1 - mu) * gains.min(-1)\n",
    "        scores = gains[:, 0] * gains[:, 1]\n",
    "\n",
    "        var = np.nanargmax(scores)\n",
    "\n",
    "        # branch\n",
    "        (T, node), fin = env.step(var)\n",
    "    assert node is None"
   ]
  },
  {
   "cell_type": "markdown",
   "id": "b494c418",
   "metadata": {},
   "source": [
    "Plot the track, the value paths, and the tree"
   ]
  },
  {
   "cell_type": "code",
   "execution_count": null,
   "id": "41be3077",
   "metadata": {},
   "outputs": [],
   "source": [
    "from matplotlib import pyplot as plt\n",
    "\n",
    "fig, ax = plt.subplots(1, 1, dpi=300)\n",
    "nn, pv, dv = map(np.array, zip(*T.graph[\"track\"]))\n",
    "ax.plot(dv)\n",
    "ax.plot(pv)"
   ]
  },
  {
   "cell_type": "code",
   "execution_count": null,
   "id": "98d06230",
   "metadata": {},
   "outputs": [],
   "source": [
    "vfn = get_value_paths(T)\n",
    "\n",
    "fig, ax = plt.subplots(1, 1, figsize=(10, 4), dpi=120)\n",
    "for leaf, vf in vfn.items():\n",
    "    ax.plot(*zip(*vf), label=leaf, c=\"C0\", alpha=0.24)"
   ]
  },
  {
   "cell_type": "code",
   "execution_count": null,
   "id": "23d25eef",
   "metadata": {},
   "outputs": [],
   "source": [
    "pos = nx.nx_agraph.graphviz_layout(T, prog=\"dot\", args=\"\")"
   ]
  },
  {
   "cell_type": "code",
   "execution_count": null,
   "id": "87afd77b",
   "metadata": {},
   "outputs": [],
   "source": [
    "fig, ax = plt.subplots(1, 1, dpi=300)\n",
    "draw_tree(T, pos, ax)\n",
    "fig.savefig(\"sb_tree.pdf\")"
   ]
  },
  {
   "cell_type": "markdown",
   "id": "cdf1a070",
   "metadata": {},
   "source": [
    "<br>"
   ]
  },
  {
   "cell_type": "markdown",
   "id": "0a7958f8",
   "metadata": {},
   "source": [
    "### SCIP"
   ]
  },
  {
   "cell_type": "markdown",
   "id": "1075257c",
   "metadata": {},
   "source": [
    "We've got our own custom [build](https://github.com/ivannz/ecole) of ecole."
   ]
  },
  {
   "cell_type": "code",
   "execution_count": null,
   "id": "31a82364",
   "metadata": {},
   "outputs": [],
   "source": [
    "import os, sys\n",
    "\n",
    "sys.path.append(\n",
    "    os.path.abspath(\"../../../repos_with_rl/copt/ecole/build/cmake/python/ecole\")\n",
    ")\n",
    "\n",
    "import ecole as ec"
   ]
  },
  {
   "cell_type": "markdown",
   "id": "901c83b3",
   "metadata": {},
   "source": [
    "Let's use the tree tracer for SCIP"
   ]
  },
  {
   "cell_type": "code",
   "execution_count": null,
   "id": "ba58407f",
   "metadata": {},
   "outputs": [],
   "source": [
    "# from toybnb.scip.tracer import TracedBranching, Branching\n",
    "from toybnb.scip.tracer import TracedBranching, Branching\n",
    "\n",
    "\n",
    "scip_params = {\n",
    "    \"branching/scorefunc\": \"p\",\n",
    "    \"randomization/permuteconss\": False,\n",
    "    \"randomization/lpseed\": 27372012,\n",
    "    \"branching/random/seed\": 41,\n",
    "    \"branching/relpscost/startrandseed\": 5,\n",
    "}\n",
    "\n",
    "\n",
    "env = TracedBranching(\n",
    "    observation_function=(\n",
    "        ec.observation.NodeBipartite(),\n",
    "        ec.observation.StrongBranchingScores(),\n",
    "    ),\n",
    "    scip_params=scip_params,\n",
    ")"
   ]
  },
  {
   "cell_type": "markdown",
   "id": "23f478b9",
   "metadata": {},
   "source": [
    "Convert toy's MILP into SCIP's model"
   ]
  },
  {
   "cell_type": "code",
   "execution_count": null,
   "id": "991bc904",
   "metadata": {},
   "outputs": [],
   "source": [
    "from toybnb.scip import to_scip\n",
    "\n",
    "fin = True\n",
    "it = ec.instance.CombinatorialAuctionGenerator()\n",
    "while fin:\n",
    "    mod = ec.scip.Model.from_pyscipopt(to_scip(p))\n",
    "    # mod = next(it)\n",
    "    obs, act, rew, fin, nfo = env.reset(mod)\n",
    "    break\n",
    "\n",
    "assert not fin"
   ]
  },
  {
   "cell_type": "markdown",
   "id": "56a794ff",
   "metadata": {},
   "source": [
    "SCIP is so much better than the thing we implemented, so there is little hope to see really deep trees on the problems, that toy can handle."
   ]
  },
  {
   "cell_type": "code",
   "execution_count": null,
   "id": "9d113ecc",
   "metadata": {},
   "outputs": [],
   "source": [
    "from toybnb.scip.scip import from_scip_lp\n",
    "\n",
    "with tqdm(ncols=70) as pb:\n",
    "    rng = default_rng()\n",
    "\n",
    "    obs, act, rew, fin, nfo = env.reset(mod)\n",
    "    m = env.model.as_pyscipopt()\n",
    "\n",
    "    while not fin:\n",
    "        pb.update(1)\n",
    "        bi, sb = obs\n",
    "\n",
    "        # read the local MILP at the focus node\n",
    "        # x: MILP = from_scip_lp(env.model.as_pyscipopt())\n",
    "\n",
    "        # pick a random index\n",
    "        var = rng.choice(act)  # obs[act], act\n",
    "\n",
    "        # or use sb scores\n",
    "        var = act[sb[act].argmax(-1)]\n",
    "        # branch\n",
    "        obs, act, rew, fin, nfo = env.step(var)\n",
    "\n",
    "        m = env.model.as_pyscipopt()"
   ]
  },
  {
   "cell_type": "raw",
   "id": "aa40b67c",
   "metadata": {},
   "source": [
    "import pdb ; pdb.pm()"
   ]
  },
  {
   "cell_type": "code",
   "execution_count": null,
   "id": "08d1cc40",
   "metadata": {},
   "outputs": [],
   "source": [
    "from matplotlib import pyplot as plt\n",
    "\n",
    "fig, ax = plt.subplots(1, 1, dpi=300)\n",
    "nn, pv, dv = map(np.array, zip(*env.tracer.trace_))\n",
    "ax.plot(dv)\n",
    "ax.plot(pv)"
   ]
  },
  {
   "cell_type": "code",
   "execution_count": null,
   "id": "facaf656",
   "metadata": {},
   "outputs": [],
   "source": [
    "pos = nx.nx_agraph.graphviz_layout(env.tracer.T, prog=\"dot\", args=\"\")"
   ]
  },
  {
   "cell_type": "code",
   "execution_count": null,
   "id": "a36a66f3",
   "metadata": {
    "scrolled": false
   },
   "outputs": [],
   "source": [
    "fig, ax = plt.subplots(1, 1, dpi=300)\n",
    "draw_tree(env.tracer.T, pos, ax, nodelist=None)  # , nodelist=T.graph[\"fathomed\"])"
   ]
  },
  {
   "cell_type": "raw",
   "id": "4d82f2dd",
   "metadata": {},
   "source": [
    "lps = nx.get_node_attributes(env.tracer.T, \"lp\")"
   ]
  },
  {
   "cell_type": "raw",
   "id": "5dcd23eb",
   "metadata": {
    "scrolled": false
   },
   "source": [
    "{n: lp for n, lp in lps.items() if lp.nit < 0}"
   ]
  },
  {
   "cell_type": "markdown",
   "id": "76556778",
   "metadata": {},
   "source": [
    "<br>"
   ]
  },
  {
   "cell_type": "markdown",
   "id": "99da9d6d",
   "metadata": {},
   "source": [
    "# Trunk"
   ]
  },
  {
   "cell_type": "markdown",
   "id": "011b9b1b",
   "metadata": {},
   "source": [
    "The bipartite observations from ecole"
   ]
  },
  {
   "cell_type": "code",
   "execution_count": null,
   "id": "4148db9a",
   "metadata": {},
   "outputs": [],
   "source": [
    "# 0 obj 1:4 type onehot 5 lb 6 ub 7 reducedcost\n",
    "# 8 lp-val 9 lp-frac 10 at lb 11 at ub 12 age\n",
    "# 13 incumbent-val 14 avg-incumbent-val 15:19 is_basis onehot\n",
    "bi.variable_features[0]"
   ]
  },
  {
   "cell_type": "code",
   "execution_count": null,
   "id": "728ab18c",
   "metadata": {},
   "outputs": [],
   "source": [
    "shape = len(bi.row_features), len(bi.variable_features)\n",
    "tab = sp.coo_array((bi.edge_features.values, bi.edge_features.indices), shape)\n",
    "bi.row_features.shape\n",
    "bi.variable_features[0]"
   ]
  },
  {
   "cell_type": "code",
   "execution_count": null,
   "id": "5e14af48",
   "metadata": {},
   "outputs": [],
   "source": [
    "plt.imshow(tab.toarray())"
   ]
  },
  {
   "cell_type": "code",
   "execution_count": null,
   "id": "a0612e7a",
   "metadata": {},
   "outputs": [],
   "source": [
    "cos = tab.dot(tab.T).toarray()\n",
    "plt.imshow(abs(cos))"
   ]
  },
  {
   "cell_type": "code",
   "execution_count": null,
   "id": "ebaa91fb",
   "metadata": {},
   "outputs": [],
   "source": [
    "from scipy import sparse as sp\n",
    "\n",
    "A_ub = x.A_ub\n",
    "n = sp.linalg.norm(A_ub, axis=-1, ord=2)\n",
    "U = sp.diags(np.where(n > 0, 1 / n, 1.0)) * A_ub\n",
    "cos = U.dot(U.T).toarray()"
   ]
  },
  {
   "cell_type": "code",
   "execution_count": null,
   "id": "f85bef13",
   "metadata": {},
   "outputs": [],
   "source": [
    "plt.imshow(abs(cos))"
   ]
  },
  {
   "cell_type": "code",
   "execution_count": null,
   "id": "544bc60f",
   "metadata": {},
   "outputs": [],
   "source": [
    "abs(cos).round(3)"
   ]
  },
  {
   "cell_type": "markdown",
   "id": "8eadf836",
   "metadata": {},
   "source": [
    "The ecole env and our env diverge"
   ]
  },
  {
   "cell_type": "code",
   "execution_count": null,
   "id": "a2ec054a",
   "metadata": {},
   "outputs": [],
   "source": [
    "from toybnb.scip.scip import from_scip, from_scip_lp\n",
    "\n",
    "mod = ec.scip.Model.from_pyscipopt(to_scip(p))\n",
    "mod.transform_prob()\n",
    "mod.presolve()\n",
    "(bi, obs), act, rew, fin, nfo = env.reset(mod)\n",
    "\n",
    "x = from_scip_lp(env.model.as_pyscipopt())  # x = it.gi_frame.f_locals[\"p\"]\n",
    "it = branching(x)\n",
    "\n",
    "n_it = 0\n",
    "G, node = it.send(None)\n",
    "while True:\n",
    "    n_it += 1\n",
    "\n",
    "    mask = np.unpackbits(dt[\"mask\"], count=dt[\"p\"].n, bitorder=\"little\")\n",
    "    if not np.isin(act, np.flatnonzero(mask)).all():\n",
    "        break\n",
    "\n",
    "    gains, nit = get_lp_gains(dt[\"p\"], dt[\"lp\"], mask)\n",
    "\n",
    "    scores = gains[:, 0] * gains[:, 1]\n",
    "    var = np.nanargmax(scores)\n",
    "\n",
    "    (bi, obs), act, rew, fin, nfo = env.step(var)\n",
    "    G, node = it.send(var)\n",
    "\n",
    "    # now scip and toy may diverge\n",
    "    x: MILP = from_scip_lp(env.model.as_pyscipopt())\n",
    "\n",
    "print(n_it)"
   ]
  },
  {
   "cell_type": "markdown",
   "id": "7d297dd7",
   "metadata": {},
   "source": [
    "<br>"
   ]
  }
 ],
 "metadata": {
  "kernelspec": {
   "display_name": "Python 3 (ipykernel)",
   "language": "python",
   "name": "python3"
  },
  "language_info": {
   "codemirror_mode": {
    "name": "ipython",
    "version": 3
   },
   "file_extension": ".py",
   "mimetype": "text/x-python",
   "name": "python",
   "nbconvert_exporter": "python",
   "pygments_lexer": "ipython3",
   "version": "3.10.6"
  }
 },
 "nbformat": 4,
 "nbformat_minor": 5
}
