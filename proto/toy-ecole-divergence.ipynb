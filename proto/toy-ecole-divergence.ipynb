{
 "cells": [
  {
   "cell_type": "markdown",
   "id": "ffc4417e",
   "metadata": {},
   "source": [
    "# my-fair-bnb"
   ]
  },
  {
   "cell_type": "markdown",
   "id": "df50b230",
   "metadata": {},
   "source": [
    "Branch-and-bound method is a general algorithm to solve optimization problems, which allow access to a sub-optimality oracle -- a procedure, which, given an instance of a problem $\n",
    "    \\min\\{f(x) \\colon x \\in X\\}\n",
    "$, returns a non-trivial lower bound $\\tau$ such that $\\tau \\leq f(x)$ for all $x \\in X$. BnB cuts-off subsets of the feasibility set $X$ in a methodical and structured manner, but still has to make sure no region is missed.\n",
    "- In fact, bnb can be adapted to the case, when the problem allows access only to a SAT oracle, which, given $(f, X, \\tau)$, decides whether $\\exists x \\in X$ such that $f(x) \\leq \\tau$."
   ]
  },
  {
   "cell_type": "code",
   "execution_count": null,
   "id": "2af0d8ff",
   "metadata": {},
   "outputs": [],
   "source": [
    "import numpy as np\n",
    "import networkx as nx\n",
    "from scipy import sparse as sp\n",
    "\n",
    "from numpy import ndarray\n",
    "from numpy.random import default_rng\n",
    "\n",
    "from tqdm import tqdm\n",
    "from matplotlib import pyplot as plt"
   ]
  },
  {
   "cell_type": "markdown",
   "id": "b6ad591a",
   "metadata": {},
   "source": [
    "A proc to draw value paths in the toy bnb tree"
   ]
  },
  {
   "cell_type": "code",
   "execution_count": null,
   "id": "750c2d78",
   "metadata": {},
   "outputs": [],
   "source": [
    "from toybnb.tree import build_optresult\n",
    "\n",
    "\n",
    "def path_to_root(T: nx.DiGraph, node: int) -> list[int, ...]:\n",
    "    \"\"\"Ascent path to the root form the node.\"\"\"\n",
    "    path = [node]\n",
    "    while T.pred[node]:\n",
    "        node = next(iter(T.pred[node]))\n",
    "        path.append(node)\n",
    "\n",
    "    return path\n",
    "\n",
    "\n",
    "def path_to_best(T: nx.DiGraph) -> list[int, ...]:\n",
    "    \"\"\"Descend from the root down the tree to the best solution.\"\"\"\n",
    "    node = T.graph[\"root\"]\n",
    "    best = nx.get_node_attributes(T, \"best\")\n",
    "    path, inc = [node], T.graph[\"incumbent\"]\n",
    "    while T[node]:\n",
    "        for child in T[node]:\n",
    "            if best.get(child) is inc:\n",
    "                node = child\n",
    "                break\n",
    "        else:\n",
    "            break\n",
    "        path.append(node)\n",
    "\n",
    "    return path\n",
    "\n",
    "\n",
    "def get_value_paths(T: nx.DiGraph) -> dict[int, list]:\n",
    "    \"\"\"Extract the value function from the tree.\"\"\"\n",
    "    best = nx.get_node_attributes(T, \"best\")\n",
    "    leaves = [n for n in T if not T[n]]\n",
    "\n",
    "    vfn, nil = {}, build_optresult()\n",
    "    for leaf in leaves:\n",
    "        vf = vfn[leaf] = []\n",
    "        path = path_to_root(T, leaf)\n",
    "        for j, n in enumerate(reversed(path)):\n",
    "            b = best.get(n, nil) or nil\n",
    "            vf.append((j, b.fun))\n",
    "\n",
    "    return vfn"
   ]
  },
  {
   "cell_type": "markdown",
   "id": "f79153ab",
   "metadata": {},
   "source": [
    "Codes for different states of the search tree nodes."
   ]
  },
  {
   "cell_type": "code",
   "execution_count": null,
   "id": "4b08bd31",
   "metadata": {},
   "outputs": [],
   "source": [
    "from toybnb.tree import Status"
   ]
  },
  {
   "cell_type": "markdown",
   "id": "a7c1804b",
   "metadata": {},
   "source": [
    "Map the status of a node to common color and nodesize."
   ]
  },
  {
   "cell_type": "code",
   "execution_count": null,
   "id": "6a19131b",
   "metadata": {},
   "outputs": [],
   "source": [
    "def default_color(code: Status) -> str:\n",
    "    match code:\n",
    "        case Status.FEASIBLE:\n",
    "            return \"C3\"\n",
    "        case Status.INFEASIBLE:\n",
    "            return \"C2\"\n",
    "        case Status.OPEN:\n",
    "            return \"fuchsia\"\n",
    "        case Status.PRUNED:\n",
    "            return \"C5\"\n",
    "        case Status.CLOSED:\n",
    "            return \"#0008\"\n",
    "        case Status.FATHOMED:\n",
    "            return \"C4\"\n",
    "        case _:  # XXX \"unofficial\" status codes for dev\n",
    "            return \"C1\""
   ]
  },
  {
   "cell_type": "markdown",
   "id": "928f6333",
   "metadata": {},
   "source": [
    "A proc to draw toy bnb trees (or from scip Tracer)"
   ]
  },
  {
   "cell_type": "code",
   "execution_count": null,
   "id": "bc7629b4",
   "metadata": {},
   "outputs": [],
   "source": [
    "from matplotlib.collections import PatchCollection\n",
    "\n",
    "\n",
    "def draw_tree(\n",
    "    T: nx.DiGraph,\n",
    "    pos: dict = None,\n",
    "    ax: plt.Axes = None,\n",
    "    nodelist: list = None,\n",
    ") -> None:\n",
    "    ax = ax if ax is None else plt.gca()\n",
    "\n",
    "    st = nx.get_node_attributes(T, \"status\")\n",
    "    best = nx.get_node_attributes(T, \"best\")\n",
    "\n",
    "    # draw only open, feasible, or infeasible nodes only\n",
    "    allowed = {Status.OPEN, Status.INFEASIBLE, Status.FEASIBLE, Status.FATHOMED}\n",
    "    # INFEASIBLE, PRUNED, FEASIBLE -- fathomed node\n",
    "    # CLOSED -- no branching options, OPEN -- node yet to be explored\n",
    "    if nodelist is None:\n",
    "        nodelist = set([n for n, s in st.items() if s in allowed])\n",
    "        nodelist.update(path_to_best(T))\n",
    "\n",
    "    nodelist = list(nodelist)\n",
    "\n",
    "    # assign colors, highlighting the branch of the best solution\n",
    "    nodecolor, inc = [], T.graph[\"incumbent\"]\n",
    "    for n in nodelist:\n",
    "        if inc is best.get(n):\n",
    "            nodecolor.append(\"C3\")\n",
    "\n",
    "        else:\n",
    "            nodecolor.append(default_color(st[n]))\n",
    "\n",
    "    # plot the branching edges as lightly as possible\n",
    "    col = PatchCollection(\n",
    "        nx.draw_networkx_edges(\n",
    "            T,\n",
    "            pos,\n",
    "            ax=ax,\n",
    "            width=0.5,\n",
    "            node_size=0,\n",
    "            arrows=None,\n",
    "            arrowsize=0,\n",
    "            arrowstyle=\"-\",\n",
    "            edge_color=\"#0004\",\n",
    "        )\n",
    "    )\n",
    "    col.set_zorder(-10)\n",
    "\n",
    "    col = nx.draw_networkx_nodes(\n",
    "        T,\n",
    "        pos,\n",
    "        ax=ax,\n",
    "        node_size=1,\n",
    "        node_shape=\"s\",\n",
    "        nodelist=nodelist,\n",
    "        node_color=nodecolor,\n",
    "    )\n",
    "    col.set_zorder(10)\n",
    "\n",
    "    ax.set_frame_on(False)"
   ]
  },
  {
   "cell_type": "markdown",
   "id": "78c7cd4b",
   "metadata": {},
   "source": [
    "Gather relevant info about a node"
   ]
  },
  {
   "cell_type": "code",
   "execution_count": null,
   "id": "5787e68c",
   "metadata": {},
   "outputs": [],
   "source": [
    "def signed_gap(pb: float, db: float) -> float:\n",
    "    if db < 0 <= pb or pb < 0 <= db:\n",
    "        return float(\"inf\")\n",
    "\n",
    "    return (pb - db) / min(abs(pb), abs(db))\n",
    "\n",
    "\n",
    "def node_nfo(T: nx.DiGraph, nn: list[int]) -> dict:\n",
    "    order = {n: j for j, n in enumerate(nn, 1)}\n",
    "\n",
    "    st = nx.get_node_attributes(T, \"status\")\n",
    "\n",
    "    def special(n: int) -> str:\n",
    "        return getattr(st[n], \"name\", \"SPECIAL\")\n",
    "\n",
    "    lp = nx.get_node_attributes(T, \"lp\")\n",
    "    inc = T.graph[\"incumbent\"]\n",
    "\n",
    "    def nfo(n: int) -> str:\n",
    "        return f\"{order.get(n, '')} {special(n)} {signed_gap(inc.fun, lp[n].fun):.3%}\"\n",
    "\n",
    "    return {n: nfo(n) for n in T}"
   ]
  },
  {
   "cell_type": "markdown",
   "id": "e2b86e05",
   "metadata": {},
   "source": [
    "Plotly provides a better tree visualization, than matplotlib"
   ]
  },
  {
   "cell_type": "code",
   "execution_count": null,
   "id": "cf6bf9df",
   "metadata": {},
   "outputs": [],
   "source": [
    "import plotly.graph_objects as go\n",
    "from matplotlib.colors import to_hex\n",
    "\n",
    "\n",
    "def draw_tree_plolty(\n",
    "    T: nx.DiGraph,\n",
    "    pos: dict[..., tuple[float, float]],\n",
    "    nodelist: list = None,\n",
    "    labels: dict = None,\n",
    ") -> None:\n",
    "    # prepare the edge line segments and create their trace\n",
    "    xy = []\n",
    "    for u, v in T.edges:\n",
    "        xy.append(pos[u])\n",
    "        xy.append(pos[v])\n",
    "        xy.append((None, None))\n",
    "    x, y = zip(*xy)\n",
    "    edges = go.Scatter(\n",
    "        x=x,\n",
    "        y=y,\n",
    "        mode=\"lines\",\n",
    "        line=dict(width=0.5, color=\"#888\"),\n",
    "        hoverinfo=\"none\",\n",
    "    )\n",
    "\n",
    "    # next, deal with nodes\n",
    "    st = nx.get_node_attributes(T, \"status\")\n",
    "    best = nx.get_node_attributes(T, \"best\")\n",
    "\n",
    "    # draw only open, feasible, or infeasible nodes only\n",
    "    allowed = {Status.OPEN, Status.INFEASIBLE, Status.FEASIBLE, Status.FATHOMED}\n",
    "    # INFEASIBLE, PRUNED, FEASIBLE -- fathomed node\n",
    "    # CLOSED -- no branching options, OPEN -- node yet to be explored\n",
    "    if nodelist is None:\n",
    "        nodelist = set([n for n, s in st.items() if s in allowed])\n",
    "        nodelist.update(path_to_best(T))\n",
    "\n",
    "    nodelist = list(nodelist)\n",
    "    if not nodelist:\n",
    "        return go.Figure()\n",
    "\n",
    "    # assign colors, highlighting the branch of the best solution\n",
    "    nodecolor, inc = [], T.graph[\"incumbent\"]\n",
    "    for n in nodelist:\n",
    "        if inc is best.get(n):\n",
    "            nodecolor.append(\"C3\")\n",
    "\n",
    "        else:\n",
    "            nodecolor.append(default_color(st[n]))\n",
    "\n",
    "    # prepare the nodes\n",
    "    x, y = zip(*(pos[n] for n in nodelist))\n",
    "    nodes = go.Scatter(\n",
    "        x=x,\n",
    "        y=y,\n",
    "        mode=\"markers\",\n",
    "        hoverinfo=\"text\",\n",
    "        marker=dict(line_width=0),\n",
    "    )\n",
    "    nodes.marker.size = [2 if st[n] == Status.CLOSED else 4 for n in nodelist]\n",
    "    nodes.marker.color = list(map(to_hex, nodecolor))\n",
    "    if labels is not None:\n",
    "        nodes.text = list(map(labels.get, nodelist))\n",
    "\n",
    "    layout = go.Layout(\n",
    "        title=\"BnB search tree\",\n",
    "        titlefont_size=16,\n",
    "        showlegend=False,\n",
    "        hovermode=\"closest\",\n",
    "        margin=dict(b=20, l=5, r=5, t=40),\n",
    "        xaxis=dict(showgrid=False, zeroline=False, showticklabels=False),\n",
    "        yaxis=dict(showgrid=False, zeroline=False, showticklabels=False),\n",
    "    )\n",
    "\n",
    "    return go.Figure(data=(edges, nodes), layout=layout)"
   ]
  },
  {
   "cell_type": "markdown",
   "id": "69dce131",
   "metadata": {},
   "source": [
    "<br>"
   ]
  },
  {
   "cell_type": "markdown",
   "id": "8ab836ff",
   "metadata": {},
   "source": [
    "#### A generic random MILP"
   ]
  },
  {
   "cell_type": "markdown",
   "id": "be540c8c",
   "metadata": {},
   "source": [
    "A Mixed Integer Linear Programs (MILP) is a linear program with integrality constraints. A MILP has the following generic form:\n",
    "\n",
    "$$\n",
    "\\min\\Bigl\\{\n",
    "    c^\\top x\n",
    "    \\colon\n",
    "    A x \\leq b\n",
    "    \\,, x \\in \\bigl[l, u\\bigr]\n",
    "    \\,,\n",
    "    x \\in \\mathbb{Z}^m \\times \\mathbb{R}^{n-m}\n",
    "\\Bigr\\}\n",
    "    \\,, $$\n",
    "\n",
    "where $A \\in \\mathbb{R}^{r \\times n}$, $b \\in \\mathbb{R}^r$, $\n",
    "    l, u \\in \\mathbb{R}^n\n",
    "$ with $l \\leq u$ and $1 \\leq m \\leq n$."
   ]
  },
  {
   "cell_type": "code",
   "execution_count": null,
   "id": "98b62abf",
   "metadata": {},
   "outputs": [],
   "source": [
    "from toybnb.milp import MILP, generate\n",
    "\n",
    "# feasibility checkers\n",
    "# from toybnb.milp import is_feasible_box, is_feasible_int"
   ]
  },
  {
   "cell_type": "markdown",
   "id": "41faefdc",
   "metadata": {},
   "source": [
    "#### A generator for MIS problems.\n",
    "\n",
    "For a undirected graph $G = (V, E)$ the Maximum independent set problem is\n",
    "$$\n",
    "\\begin{aligned}\n",
    "    & \\underset{x\\in \\{0, 1\\}}{\\text{maximize}}\n",
    "      & & \\sum_{v \\in G} x_v\n",
    "          \\\\\n",
    "    & \\text{subject to}\n",
    "      & & \\forall uv \\in E\n",
    "          \\colon x_u + x_v \\leq 1\n",
    "          \\,.\n",
    "\\end{aligned}\n",
    "    $$"
   ]
  },
  {
   "cell_type": "code",
   "execution_count": null,
   "id": "263b728e",
   "metadata": {},
   "outputs": [],
   "source": [
    "from toybnb.milp import generate_mis_ba"
   ]
  },
  {
   "cell_type": "markdown",
   "id": "24761538",
   "metadata": {},
   "source": [
    "Invert our bnb solver at the branch variable selection, while still using the depth-first node selector."
   ]
  },
  {
   "cell_type": "code",
   "execution_count": null,
   "id": "76d9010a",
   "metadata": {},
   "outputs": [],
   "source": [
    "from toybnb import search as bnb\n",
    "from toybnb.coro import Coroutine\n",
    "\n",
    "\n",
    "def inverted_search(p: MILP, nodesel: callable = bnb.nodesel_dfs) -> ...:\n",
    "    \"\"\"Inverted variable branching as generator\"\"\"\n",
    "\n",
    "    def branchrule(T: nx.DiGraph, node: int) -> int:\n",
    "        return co.co_yield((T, node))\n",
    "\n",
    "    # def nodesel(G: nx.DiGraph, *reschedule: int) -> int:\n",
    "    #     # yields must use a tag for use in a state machine\n",
    "    #     return co.co_yield((\"nodesel\", G, *reschedule))\n",
    "\n",
    "    args = p, nodesel, branchrule\n",
    "    co = Coroutine(bnb.search, args=args)\n",
    "    return iter(co)\n",
    "\n",
    "\n",
    "def branching(p: MILP, nodesel: callable = bnb.nodesel_dfs) -> tuple[nx.DiGraph, int]:\n",
    "    \"\"\"Branching that allows each node to be visited only once\"\"\"\n",
    "    it, visited, var = inverted_search(p, nodesel), set(), None\n",
    "    try:\n",
    "        while True:\n",
    "            T, node = it.send(var)\n",
    "            while node in visited:\n",
    "                T, node = it.throw(IndexError)\n",
    "\n",
    "            visited.add(node)\n",
    "            var = yield T, node\n",
    "            # assert it.gi_frame.f_locals[\"self\"].co_is_suspended\n",
    "\n",
    "    except StopIteration as e:\n",
    "        return e.value, None\n",
    "\n",
    "\n",
    "def send(it: iter, value: ...) -> ...:\n",
    "    \"\"\"Send a value to the generator and get a value from it in return\"\"\"\n",
    "    try:\n",
    "        return it.send(value), False\n",
    "\n",
    "    except StopIteration as e:\n",
    "        return e.value, True\n",
    "\n",
    "\n",
    "class GeneratorEnv:\n",
    "    \"\"\"A wrapper to make generators into envs.\"\"\"\n",
    "\n",
    "    def reset(self, it: iter) -> ...:\n",
    "        self.it = iter(it)\n",
    "        return send(self.it, None)\n",
    "\n",
    "    def step(self, act: ...) -> ...:\n",
    "        return send(self.it, act)"
   ]
  },
  {
   "cell_type": "markdown",
   "id": "3030b640",
   "metadata": {},
   "source": [
    "<br>"
   ]
  },
  {
   "cell_type": "markdown",
   "id": "9197e42c",
   "metadata": {},
   "source": [
    "### Reference solution"
   ]
  },
  {
   "cell_type": "markdown",
   "id": "604ee7c2",
   "metadata": {},
   "source": [
    "Generate a simple problem and solve it with SCIP to get the reference"
   ]
  },
  {
   "cell_type": "code",
   "execution_count": null,
   "id": "48c20a34",
   "metadata": {},
   "outputs": [],
   "source": [
    "# it = generate(100, 50, 10, seed=1458)\n",
    "# it = generate(150, 50, 15, seed=1458)\n",
    "# it = generate(50, 50, 10, seed=1458)  # many infeasible nodes\n",
    "# it = generate_mis_ba(210, seed=454)\n",
    "\n",
    "# it = generate(1500, 1200, 5, seed=53912)\n",
    "it = generate(50, 38, 10, seed=1458)  # very slow ub decay\n",
    "\n",
    "p = next(it)  # x = it.gi_frame.f_locals[\"p\"]"
   ]
  },
  {
   "cell_type": "raw",
   "id": "01e78c6f",
   "metadata": {},
   "source": [
    "# A simple instance of a combinatorial auction problem\n",
    "from ecole.instance import CombinatorialAuctionGenerator\n",
    "from toybnb.scip.scip import from_scip\n",
    "\n",
    "it = CombinatorialAuctionGenerator(n_items=100, n_bids=500)\n",
    "p = from_scip(next(it).as_pyscipopt())"
   ]
  },
  {
   "cell_type": "markdown",
   "id": "7b07c745",
   "metadata": {},
   "source": [
    "Convert to SCIP and solve"
   ]
  },
  {
   "cell_type": "code",
   "execution_count": null,
   "id": "e8e4dfd0",
   "metadata": {},
   "outputs": [],
   "source": [
    "from toybnb.scip import to_scip, get_result\n",
    "\n",
    "m = to_scip(\n",
    "    p,\n",
    "    **{\n",
    "        \"display/verblevel\": 0,\n",
    "    }\n",
    ")\n",
    "m.optimize()\n",
    "\n",
    "sol = get_result(m)\n",
    "\n",
    "sol.fun"
   ]
  },
  {
   "cell_type": "markdown",
   "id": "648c2a10",
   "metadata": {},
   "source": [
    "<br>"
   ]
  },
  {
   "cell_type": "markdown",
   "id": "a4024e5e",
   "metadata": {},
   "source": [
    "### ToyBNB tree"
   ]
  },
  {
   "cell_type": "markdown",
   "id": "21f9d0d8",
   "metadata": {},
   "source": [
    "BnB for MILP is an exhaustive search which employs _a continuous relaxation of the MILP_ as the oracle in order to eliminate sub-regions of the feasibility set.\n",
    "Let the integer feasibility set and its continuous relaxation be, respectively,\n",
    "$$\n",
    "\\begin{align}\n",
    "S\n",
    "    &= \\bigl\\{\n",
    "        x \\in \\mathbb{Z}^m \\times \\mathbb{R}^{n-m}\n",
    "        \\colon A x \\leq b\n",
    "        \\,, x \\in [l, u] \n",
    "    \\bigr\\}\n",
    "    \\,, \\\\\n",
    "\\breve{S}\n",
    "    &= \\bigl\\{\n",
    "        x \\in \\mathbb{R}^n\n",
    "        \\colon A x \\leq b\n",
    "        \\,, x \\in [l, u] \n",
    "    \\bigr\\}\n",
    "    \\,.\n",
    "\\end{align}\n",
    "$$\n",
    "The linear problem\n",
    "$$\n",
    "\\breve{f}\n",
    "    = \\min_x \\{\n",
    "        c^\\top x\n",
    "        \\colon x \\in \\breve{S}\n",
    "    \\}\n",
    "    \\,, $$\n",
    "offers a _lower bound on the achievable value_ of the objective in $S$, i.e. every integer-feasible $x \\in S$ necessarily has $\n",
    "    \\breve{f} \\leq c^\\top x\n",
    "$."
   ]
  },
  {
   "cell_type": "code",
   "execution_count": null,
   "id": "7ba50cc4",
   "metadata": {},
   "outputs": [],
   "source": [
    "from toybnb.tree import OptimizeResult\n",
    "\n",
    "\n",
    "def sub_problem(T: nx.DiGraph, n: int) -> tuple[MILP, OptimizeResult, ndarray]:\n",
    "    \"\"\"Get the sub-problem of the node.\"\"\"\n",
    "    dt = T.nodes[n]\n",
    "    p, lp = dt[\"p\"], dt.get(\"lp\")\n",
    "\n",
    "    # unpack the bitmask of the fractional vars in the node\n",
    "    mask = np.unpackbits(dt[\"mask\"], count=p.n, bitorder=\"little\")\n",
    "    return p, lp, mask"
   ]
  },
  {
   "cell_type": "markdown",
   "id": "a8a2930a",
   "metadata": {},
   "source": [
    "Solve the MILP, generated above, with random variable branching."
   ]
  },
  {
   "cell_type": "code",
   "execution_count": null,
   "id": "b26c259e",
   "metadata": {},
   "outputs": [],
   "source": [
    "with tqdm(ncols=70) as pb:\n",
    "    rng = default_rng(671)\n",
    "    env = GeneratorEnv()\n",
    "    (T, node), fin = env.reset(branching(p))\n",
    "    while not fin:\n",
    "        pb.update(1)\n",
    "\n",
    "        # pick a random index\n",
    "        _, _, mask = sub_problem(T, node)\n",
    "        var = rng.choice(np.flatnonzero(mask))\n",
    "\n",
    "        # branch\n",
    "        (T, node), fin = env.step(var)\n",
    "\n",
    "assert node is None"
   ]
  },
  {
   "cell_type": "markdown",
   "id": "8ab2c889",
   "metadata": {},
   "source": [
    "Plot the primal and dual bound history"
   ]
  },
  {
   "cell_type": "code",
   "execution_count": null,
   "id": "feb2fa60",
   "metadata": {},
   "outputs": [],
   "source": [
    "fig, ax = plt.subplots(1, 1, figsize=(5, 2), dpi=300)\n",
    "nn_rng, pv_rng, dv = map(np.array, zip(*T.graph[\"track\"]))\n",
    "ax.plot(dv)\n",
    "ax.plot(pv_rng)\n",
    "ax.axhline(sol.fun, zorder=-10, c=\"k\", alpha=0.25)"
   ]
  },
  {
   "cell_type": "markdown",
   "id": "09bfae66",
   "metadata": {},
   "source": [
    "Draw the value paths"
   ]
  },
  {
   "cell_type": "code",
   "execution_count": null,
   "id": "16f67e28",
   "metadata": {},
   "outputs": [],
   "source": [
    "vfn = get_value_paths(T)\n",
    "\n",
    "fig, ax = plt.subplots(1, 1, figsize=(10, 4), dpi=120)\n",
    "for leaf, vf in vfn.items():\n",
    "    ax.plot(*zip(*vf), label=leaf, c=\"C0\", alpha=0.24)"
   ]
  },
  {
   "cell_type": "markdown",
   "id": "58791d38",
   "metadata": {},
   "source": [
    "Draw the search tree"
   ]
  },
  {
   "cell_type": "code",
   "execution_count": null,
   "id": "1614a041",
   "metadata": {},
   "outputs": [],
   "source": [
    "T_rng = T\n",
    "pos_rng = nx.nx_agraph.graphviz_layout(T_rng, prog=\"dot\", args=\"\")"
   ]
  },
  {
   "cell_type": "code",
   "execution_count": null,
   "id": "eb6c69ce",
   "metadata": {},
   "outputs": [],
   "source": [
    "fig, ax = plt.subplots(1, 1, dpi=300)\n",
    "draw_tree(T_rng, pos_rng, ax)\n",
    "fig.savefig(\"rand_tree.pdf\")"
   ]
  },
  {
   "cell_type": "code",
   "execution_count": null,
   "id": "da0546f9",
   "metadata": {},
   "outputs": [],
   "source": [
    "T.nodes[0][\"best\"]"
   ]
  },
  {
   "cell_type": "markdown",
   "id": "9d167970",
   "metadata": {},
   "source": [
    "Sanity check"
   ]
  },
  {
   "cell_type": "code",
   "execution_count": null,
   "id": "2682bc80",
   "metadata": {},
   "outputs": [],
   "source": [
    "# we have incumbent >= lp ins `dual` and either closed\n",
    "#  or integer-feasible\n",
    "st = nx.get_node_attributes(T, \"status\")\n",
    "assert all(st[n] in (Status.FEASIBLE, Status.CLOSED) for _, n in T.graph[\"duals\"])\n",
    "\n",
    "is_leaf = {n: not bool(T[n]) for n in T}\n",
    "is_fathomed = {n: s != Status.OPEN for n, s in st.items()}\n",
    "assert all(is_fathomed.values())\n",
    "\n",
    "assert T.nodes[T.graph[\"root\"]][\"best\"] is T.graph[\"incumbent\"]"
   ]
  },
  {
   "cell_type": "markdown",
   "id": "671b8d68",
   "metadata": {},
   "source": [
    "Compare with SCIP's solution"
   ]
  },
  {
   "cell_type": "code",
   "execution_count": null,
   "id": "5a94ee9e",
   "metadata": {},
   "outputs": [],
   "source": [
    "print(\n",
    "    T_rng.graph[\"incumbent\"].fun,\n",
    "    sol.fun,\n",
    "    np.isclose(T_rng.graph[\"incumbent\"].fun, sol.fun),\n",
    ")\n",
    "# there may be solution multiplicity\n",
    "# assert np.allclose(T_rng.graph[\"incumbent\"].x, sol.x)"
   ]
  },
  {
   "cell_type": "markdown",
   "id": "2c7a7465",
   "metadata": {},
   "source": [
    "A random branching strategy is absolutely oblivious to the nature and geometry of the underlying problem."
   ]
  },
  {
   "cell_type": "markdown",
   "id": "ac295d0b",
   "metadata": {},
   "source": [
    "<br>"
   ]
  },
  {
   "cell_type": "markdown",
   "id": "3f81b5c5",
   "metadata": {},
   "source": [
    "### lower-bound aware depth-first node selection"
   ]
  },
  {
   "cell_type": "markdown",
   "id": "bf0cc9cb",
   "metadata": {},
   "source": [
    "A node selection strategy is as important as the variable selection heuristic: the latter's goal is to achieve subset cutoff as soon as possible, while the fomer's is to dive into the nodes with the loosest lower bound possible so as to eat up the potential primal-dual margin in a sub-tree as fast as possible."
   ]
  },
  {
   "cell_type": "code",
   "execution_count": null,
   "id": "d5187d69",
   "metadata": {},
   "outputs": [],
   "source": [
    "def nodesel_dfs_lb(G: nx.DiGraph, *reschedule: int) -> int:\n",
    "    \"\"\"Prioritize the child with the worst lp lower bound.\"\"\"\n",
    "    stack, dt = G.graph[\"queue\"], G.nodes\n",
    "\n",
    "    def lower_bound(n: int) -> float:\n",
    "        return dt[n][\"lp\"].fun\n",
    "\n",
    "    # the nodes in `reschedule` may be anything, but CLOSED\n",
    "    if reschedule:\n",
    "        # always reschedule the first node, since the current impl\n",
    "        #  of the bnb search allows revisits, and relies on nodesel\n",
    "        #  to pick a node and an unsuccessful branchrule to mark\n",
    "        #  it as closed. Futhermore, reschedule it FIRST, so as to\n",
    "        #  make this nodesel a true DFS.\n",
    "        n, *reschedule = reschedule\n",
    "        if dt[n][\"status\"] == Status.OPEN:\n",
    "            stack.append(n)\n",
    "\n",
    "        # prioritize the children by their lp lower bound, but\n",
    "        #  schedule only OPEN nodes. The less tight the lower\n",
    "        #  bound, intuitively, the more margin there is for an\n",
    "        #  integer feasible solution.\n",
    "        for n in sorted(reschedule, key=lower_bound, reverse=True):\n",
    "            if dt[n][\"status\"] == Status.OPEN:\n",
    "                stack.append(n)\n",
    "\n",
    "    while stack:\n",
    "        n = stack.pop()\n",
    "        if dt[n][\"status\"] == Status.OPEN:\n",
    "            return n\n",
    "\n",
    "    raise IndexError"
   ]
  },
  {
   "cell_type": "markdown",
   "id": "6c98cf40",
   "metadata": {},
   "source": [
    "Run random branching with a slightly smarter nodesel"
   ]
  },
  {
   "cell_type": "code",
   "execution_count": null,
   "id": "43d3ef93",
   "metadata": {},
   "outputs": [],
   "source": [
    "with tqdm(ncols=70) as pb:\n",
    "    rng = default_rng(671)\n",
    "    env = GeneratorEnv()\n",
    "    (T, node), fin = env.reset(branching(p, nodesel_dfs_lb))\n",
    "    while not fin:\n",
    "        pb.update(1)\n",
    "\n",
    "        # pick a random index\n",
    "        _, _, mask = sub_problem(T, node)\n",
    "        var = rng.choice(np.flatnonzero(mask))\n",
    "\n",
    "        # branch\n",
    "        (T, node), fin = env.step(var)\n",
    "\n",
    "assert node is None"
   ]
  },
  {
   "cell_type": "markdown",
   "id": "89881f33",
   "metadata": {},
   "source": [
    "The trace and the value function"
   ]
  },
  {
   "cell_type": "code",
   "execution_count": null,
   "id": "c255bcc7",
   "metadata": {},
   "outputs": [],
   "source": [
    "fig, ax = plt.subplots(1, 1, figsize=(5, 2), dpi=300)\n",
    "nn_rng_dfs, pv_rng_dfs, dv = map(np.array, zip(*T.graph[\"track\"]))\n",
    "ax.plot(dv)\n",
    "ax.plot(pv_rng_dfs)\n",
    "ax.axhline(sol.fun, zorder=-10, c=\"k\", alpha=0.25)"
   ]
  },
  {
   "cell_type": "code",
   "execution_count": null,
   "id": "58f39d48",
   "metadata": {},
   "outputs": [],
   "source": [
    "vfn = get_value_paths(T)\n",
    "\n",
    "fig, ax = plt.subplots(1, 1, figsize=(10, 4), dpi=120)\n",
    "for leaf, vf in vfn.items():\n",
    "    ax.plot(*zip(*vf), label=leaf, c=\"C0\", alpha=0.24)"
   ]
  },
  {
   "cell_type": "markdown",
   "id": "e30a40bf",
   "metadata": {},
   "source": [
    "The search tree"
   ]
  },
  {
   "cell_type": "code",
   "execution_count": null,
   "id": "9ce49851",
   "metadata": {},
   "outputs": [],
   "source": [
    "T_rng_dfs = T\n",
    "pos_rng_dfs = nx.nx_agraph.graphviz_layout(T_rng_dfs, prog=\"dot\", args=\"\")"
   ]
  },
  {
   "cell_type": "code",
   "execution_count": null,
   "id": "1095a036",
   "metadata": {},
   "outputs": [],
   "source": [
    "fig, ax = plt.subplots(1, 1, dpi=300)\n",
    "draw_tree(T_rng_dfs, pos_rng_dfs, ax)\n",
    "fig.savefig(\"rand_dfs_lb_tree.pdf\")"
   ]
  },
  {
   "cell_type": "markdown",
   "id": "053f87a7",
   "metadata": {},
   "source": [
    "<br>"
   ]
  },
  {
   "cell_type": "markdown",
   "id": "d3aad781",
   "metadata": {},
   "source": [
    "### Strong branching"
   ]
  },
  {
   "cell_type": "markdown",
   "id": "601f829c",
   "metadata": {},
   "source": [
    "Strong branching selects a variable to split the MILP with based on exhaustive look-ahead for the most promising  lower bound (lp relaxation, dual bound), with the goal to cut off a half of the search space as quickly as possible."
   ]
  },
  {
   "cell_type": "code",
   "execution_count": null,
   "id": "da023a16",
   "metadata": {},
   "outputs": [],
   "source": [
    "# wrapper for scipy's LP solver for the relaxed\n",
    "#  problem w/o integrality\n",
    "from toybnb.tree import lpsolve"
   ]
  },
  {
   "cell_type": "markdown",
   "id": "d8164aa6",
   "metadata": {},
   "source": [
    "Suppose, we happen to have a candidate (incumbent) $x_*$ with $f^* = c^\\top x_*$, which is integer-feasible in the __original problem's domain__ of which $S$ is a proper subset, but with $x_* \\notin S$.\n",
    "Then $f^* < \\breve{f}$ __certifies__ that there is __no integer-feasible__ $x$ in $\n",
    "    \\breve{S} \\supseteq S\n",
    "$ with a lower objective value than $x_*$. This means that $\\breve{S}$, including the entirety of $S$, may be excluded from the search."
   ]
  },
  {
   "cell_type": "markdown",
   "id": "75968768",
   "metadata": {},
   "source": [
    "The lp-gains $\\Delta_\\pm$ are computed based on the left and right relaxation of the integer problem.\n",
    "\n",
    "If $\\breve{f} \\leq f^*$ and $\\breve{x} \\notin S$, there is some $j=1..m$ such that $\\breve{x}^j \\notin \\mathbb{Z}$. Since it would be impossible for any integer-feasible solution $x \\in S$ to have $\n",
    "    x^j \\in \\bigl(\n",
    "        \\lfloor \\breve{x}^j \\rfloor,\n",
    "        \\lceil \\breve{x}^j \\rceil\n",
    "    \\bigr)\n",
    "$, it becomes reasonable to split the original feasibility set $S$ in two non-adjacent subsets:\n",
    "$$\n",
    "    \\underbrace{\n",
    "        \\bigl\\{\n",
    "            % x \\colon\n",
    "            x^j \\leq \\lfloor \\breve{x}^j \\rfloor\n",
    "        \\bigr\\}  % \\times \\mathbb{R}^{n-1}\n",
    "    }_{R^j_-}\n",
    "    \\uplus\n",
    "    \\underbrace{\n",
    "        \\bigl\\{\n",
    "            % x \\colon\n",
    "            \\lceil \\breve{x}^j \\rceil \\geq x^j\n",
    "        \\bigr\\}  % \\times \\mathbb{R}^{n-1}\n",
    "    }_{R^j_+}\n",
    "    \\,.\n",
    "$$\n",
    "Note that it is sufficient to split the region $S$ with respect to one variable only, since every other split is guaranteed by integer-feasiblity __not__ to contain a feasible solution in the excluded region of the $j$-th variable."
   ]
  },
  {
   "cell_type": "code",
   "execution_count": null,
   "id": "e45f8548",
   "metadata": {},
   "outputs": [],
   "source": [
    "# partition the feasibility set on a given integer\n",
    "#  variable with the specified threshold\n",
    "from toybnb.tree import split"
   ]
  },
  {
   "cell_type": "markdown",
   "id": "697a595f",
   "metadata": {},
   "source": [
    "The sub-regions $\n",
    "    S^j_\\pm = S \\cap R^j_\\pm\n",
    "$ bring about new lower bounds $\n",
    "\\breve{f}^j_\\pm\n",
    "    = \\min_x \\{\n",
    "        c^\\top x\\colon x \\in \\breve{S}^j_\\pm\n",
    "    \\}\n",
    "$. The new sub-problems are obtained from the original by modifying the bounds of the $j$-th variable: $\n",
    "    \\bigl[l^j, \\lfloor \\breve{x}^j \\rfloor\\bigr]\n",
    "$ and $\n",
    "    \\bigl[\\lceil \\breve{x}^j \\rceil, u^j\\bigr]\n",
    "$. The amount of the objective value, by which each bound is tightened, is the _gain_:\n",
    "$$\n",
    "\\Delta^j_\\pm\n",
    "    = \\breve{f}^j_\\pm - \\breve{f}\n",
    "    \\geq 0\n",
    "    \\,. $$"
   ]
  },
  {
   "cell_type": "code",
   "execution_count": null,
   "id": "9a4c073e",
   "metadata": {},
   "outputs": [],
   "source": [
    "from toybnb.tree import OptimizeResult, split\n",
    "\n",
    "\n",
    "def get_lp_gains(\n",
    "    p: MILP, lp: OptimizeResult, mask: ndarray\n",
    ") -> tuple[ndarray, ndarray, int]:\n",
    "    \"\"\"Compute LP branching gains for each candidate variable in the binary mask.\"\"\"\n",
    "    lpiter = 0\n",
    "\n",
    "    # split by the variable, solve LPs, and record dual gains\n",
    "    gains = np.full((p.n, 2), np.nan)\n",
    "    for j in np.flatnonzero(mask):\n",
    "        lp_lo, lp_up = map(lpsolve, split(p, j, lp.x[j]))\n",
    "        gains[j] = lp_lo.fun - lp.fun, lp_up.fun - lp.fun\n",
    "        lpiter += lp_lo.nit + lp_up.nit\n",
    "\n",
    "    return gains.clip(0), lpiter"
   ]
  },
  {
   "cell_type": "markdown",
   "id": "25cac451",
   "metadata": {},
   "source": [
    "Scoring functions\n",
    "* additive $\n",
    "    s_j = \\mu \\max\\{\\Delta^j_-, \\Delta^j_+\\}\n",
    "        + (1 - \\mu) \\min\\{\\Delta^j_-, \\Delta^j_+\\}\n",
    "$\n",
    "* multiplicative $\n",
    "    s_j = \\Delta^j_- \\Delta^j_+\n",
    "$ -- the default scorefunc in SCIP"
   ]
  },
  {
   "cell_type": "markdown",
   "id": "533e984d",
   "metadata": {},
   "source": [
    "The strong branching rule enumerates all fractional variables and evaluates the lp lower bound changes on a split with respect to each one."
   ]
  },
  {
   "cell_type": "code",
   "execution_count": null,
   "id": "0a99f273",
   "metadata": {},
   "outputs": [],
   "source": [
    "\"\"\"Choose a variable to split the problem with, based on exhaustive look-ahead.\"\"\"\n",
    "\n",
    "with tqdm(ncols=70) as pb:\n",
    "    n_lpit = 0\n",
    "    env = GeneratorEnv()\n",
    "    (T, node), fin = env.reset(branching(p, nodesel_dfs_lb))\n",
    "    while not fin:\n",
    "        pb.update(1)\n",
    "\n",
    "        # get the up-lo branching gains\n",
    "        p_, lp_, mask = sub_problem(T, node)\n",
    "        gains, nit = get_lp_gains(p_, lp_, mask)\n",
    "        n_lpit += nit\n",
    "\n",
    "        # scores = mu * gains.max(-1) + (1 - mu) * gains.min(-1)\n",
    "        scores = gains[:, 0] * gains[:, 1]\n",
    "\n",
    "        # branch\n",
    "        var = np.nanargmax(scores)\n",
    "        (T, node), fin = env.step(var)\n",
    "\n",
    "assert node is None"
   ]
  },
  {
   "cell_type": "markdown",
   "id": "b494c418",
   "metadata": {},
   "source": [
    "Plot the track, the value paths, and the tree"
   ]
  },
  {
   "cell_type": "code",
   "execution_count": null,
   "id": "41be3077",
   "metadata": {},
   "outputs": [],
   "source": [
    "from matplotlib import pyplot as plt\n",
    "\n",
    "fig, ax = plt.subplots(1, 1, figsize=(5, 2), dpi=300)\n",
    "nn_sb, pv_sb, dv = map(np.array, zip(*T.graph[\"track\"]))\n",
    "ax.plot(dv)\n",
    "ax.plot(pv_sb)\n",
    "ax.axhline(sol.fun, zorder=-10, c=\"k\", alpha=0.25)"
   ]
  },
  {
   "cell_type": "code",
   "execution_count": null,
   "id": "98d06230",
   "metadata": {},
   "outputs": [],
   "source": [
    "vfn = get_value_paths(T)\n",
    "\n",
    "fig, ax = plt.subplots(1, 1, figsize=(10, 4), dpi=120)\n",
    "for leaf, vf in vfn.items():\n",
    "    ax.plot(*zip(*vf), label=leaf, c=\"C0\", alpha=0.24)"
   ]
  },
  {
   "cell_type": "code",
   "execution_count": null,
   "id": "23d25eef",
   "metadata": {},
   "outputs": [],
   "source": [
    "T_sb = T\n",
    "pos_sb = nx.nx_agraph.graphviz_layout(T_sb, prog=\"dot\", args=\"\")"
   ]
  },
  {
   "cell_type": "code",
   "execution_count": null,
   "id": "87afd77b",
   "metadata": {},
   "outputs": [],
   "source": [
    "fig, ax = plt.subplots(1, 1, dpi=300)\n",
    "draw_tree(T_sb, pos_sb, ax)\n",
    "fig.savefig(\"sb_tree.pdf\")"
   ]
  },
  {
   "cell_type": "markdown",
   "id": "64db179c",
   "metadata": {},
   "source": [
    "Strong branching is provably the best branching rule in terms of search tree efficiency (the overall number of nodes). However, the exhaustive enumeration of all candidates coupled with invoking an expensive lp solver twice for each, makes the SB rule very computationally expensive in practice."
   ]
  },
  {
   "cell_type": "markdown",
   "id": "cdf1a070",
   "metadata": {},
   "source": [
    "<br>"
   ]
  },
  {
   "cell_type": "markdown",
   "id": "ad5113e7",
   "metadata": {},
   "source": [
    "### Pseudocost branching\n",
    "\n",
    "Whenever a fractional variable $j$ is picked for branching and both sub-porblems have feasible lp relaxations, we can compute its, so called, _branching pseudocosts_: $\n",
    "    p^j_\\pm = \\frac{\\Delta^j_\\pm}{\\phi^j_\\pm}\n",
    "$ where $\n",
    "    \\phi^j_- = \\breve{x}^j - \\lfloor \\breve{x}^j \\rfloor\n",
    "$, and $\n",
    "    \\phi^j_+ = \\lceil \\breve{x}^j \\rceil - \\breve{x}^j\n",
    "$. Conceptually, the $p^j_\\pm$ measure the rate of degradation of the objective function value between the nested lp relaxations caused by splitting on a given variable. It is possible to view then as the local objective function sensitivities like $\n",
    "    p^j_\\pm\n",
    "        \\approx \\partial_j (c^\\top x)\n",
    "$."
   ]
  },
  {
   "cell_type": "code",
   "execution_count": null,
   "id": "3848dd97",
   "metadata": {},
   "outputs": [],
   "source": [
    "from collections import namedtuple\n",
    "\n",
    "Acc = namedtuple(\"Acc\", \"n,v\")\n",
    "\n",
    "\n",
    "def fractionality(x: ndarray) -> ndarray:\n",
    "    \"\"\"Compute the fractionality of each variable\"\"\"\n",
    "    return np.stack((x - np.floor(x), np.ceil(x) - x), axis=-1)\n",
    "\n",
    "\n",
    "def acc_get_estimate(acc: Acc, *, min: float = 1e-4, epsilon: float = 1e-5) -> ndarray:\n",
    "    # compute the Laplace-corrected average estimate\n",
    "    n = acc.n.sum(0, keepdims=True)\n",
    "    coef = n / (n + len(acc.n) * epsilon)\n",
    "    size = (acc.n + epsilon) * coef\n",
    "\n",
    "    return np.clip(acc.v / size, min, None)"
   ]
  },
  {
   "cell_type": "markdown",
   "id": "a2958047",
   "metadata": {},
   "source": [
    "If the split results in an infeasible sub-problem, researchers suggest to use a [_fake objective value_](http://www.or.deis.unibo.it/andrea/pscost-ISMP2009.pdf), computed based on the parent's lp value and the averaged pseudocost of all other variables multiplied by $\\phi^j_\\pm$:\n",
    "$$\n",
    "\\tilde{p}^j_\\pm\n",
    "    = \\frac{\n",
    "        \\overbrace{\n",
    "            \\breve{f} + A \\bigl( \\bar{p}_\\pm \\phi^j_\\pm + \\epsilon \\bigr)\n",
    "        }^{\\text{fake objective value}}\n",
    "        - \\breve{f}\n",
    "    }{\\phi^j_\\pm}\n",
    "    \\,, $$\n",
    "for a small $\\epsilon > 0$, a large $A > 0$, and $\\bar{p}_\\pm$ -- the average pseudocost across the integer variables."
   ]
  },
  {
   "cell_type": "markdown",
   "id": "637ad25c",
   "metadata": {},
   "source": [
    "Whenever a pseudocost for a fractional variable is not available, we use partial strong branching to seed the initial up-lo gain estimates."
   ]
  },
  {
   "cell_type": "code",
   "execution_count": null,
   "id": "0f5f0dd7",
   "metadata": {},
   "outputs": [],
   "source": [
    "from math import isfinite\n",
    "\n",
    "\n",
    "def update_pseudocosts(pc: Acc, T: nx.DiGraph, node: int) -> None:\n",
    "    p = T.nodes[node][\"p\"]\n",
    "\n",
    "    # compute pseudocosts\n",
    "    for c, dt in T[node].items():\n",
    "        # decide which pseudocost to update\n",
    "        k = 0 if dt[\"key\"] < 0 else 1\n",
    "        j, g, f = dt[\"j\"], dt[\"g\"], dt[\"f\"]\n",
    "\n",
    "        # compute pseudocosts and handle infeasible lp gains\n",
    "        pcost = g / f\n",
    "        if not isfinite(pcost):\n",
    "            # on the one hand, we want the pcosts to reflect the dual\n",
    "            #  gain from splitting by a variable, and at the same time\n",
    "            #  cut off a sub-problem as quickly as possible. On the\n",
    "            #  other hand, spoiling the pcosts now with a really HIGH\n",
    "            #  gain, is bad for the using pcost estimate at other nodes.\n",
    "            continue\n",
    "\n",
    "            # fake = lp.fun + (avg_pcost * f + eps) * LARGE\n",
    "            pc_avg = pc.v[: p.m].sum(0) / pc.n[: p.m].sum(0)\n",
    "\n",
    "            # pcost = (fake - lp.fun) / f\n",
    "            pcost = (float(pc_avg[k]) * f + 1e-2) * 1e4 / f\n",
    "\n",
    "        # bump the branching counter and update averages in-place\n",
    "        pc.n[j, k] += 1\n",
    "        pc.v[j, k] += pcost\n",
    "        # pc.v[j, k] += (pcost - pc.v[j, k]) / pc.n[j, k]"
   ]
  },
  {
   "cell_type": "markdown",
   "id": "5fbce3ed",
   "metadata": {},
   "source": [
    "Let's try the pseudocost branching approach"
   ]
  },
  {
   "cell_type": "code",
   "execution_count": null,
   "id": "6368ddd0",
   "metadata": {
    "scrolled": false
   },
   "outputs": [],
   "source": [
    "node = None\n",
    "with tqdm(ncols=70) as pb:\n",
    "    n_lpit = 0\n",
    "    env = GeneratorEnv()\n",
    "\n",
    "    last = node\n",
    "    (T, node), fin = env.reset(branching(p, nodesel_dfs_lb))\n",
    "\n",
    "    # get the up-lo pseudocosts\n",
    "    n = T.graph[\"p\"].n\n",
    "    pc = Acc(np.zeros((n, 2)), np.zeros((n, 2)))\n",
    "    while not fin:\n",
    "        pb.update(1)\n",
    "        assert not np.isnan(pc.v).any()\n",
    "\n",
    "        # get the up-lo branching gains\n",
    "        p_, lp_, mask = sub_problem(T, node)\n",
    "        cands = np.flatnonzero(mask)\n",
    "        assert len(cands) > 0\n",
    "\n",
    "        frac = fractionality(lp_.x)\n",
    "\n",
    "        # pick which pseudocosts need to be initialized\n",
    "        mask = ((pc.n == 0.0).any(-1)) & (mask > 0)\n",
    "        # pb.set_postfix_str(f\"{mask.sum()} {bnb.bnb.gap(T):.2%}\")  # XXX slow\n",
    "        if mask.any():\n",
    "            gains, nit = get_lp_gains(p_, lp_, mask)\n",
    "            n_lpit += nit\n",
    "\n",
    "            # get the pseudocosts (costs as in `c_j`)\n",
    "            pcost = np.clip(gains / frac, 0, abs(p_.c).max())\n",
    "            pc.v[mask] = pcost[mask]\n",
    "            pc.n[mask] = 10  # XXX we can tweak this parameter\n",
    "\n",
    "        # decide, which variable to branch on\n",
    "        gains = acc_get_estimate(pc, min=1e-5) * frac\n",
    "        # scores = mu * gains.max(-1) + (1 - mu) * gains.min(-1)\n",
    "        scores = gains[:, 0] * gains[:, 1]\n",
    "        var = cands[scores[cands].argmax()]\n",
    "\n",
    "        # branch\n",
    "        last = node\n",
    "        (T, node), fin = env.step(var)\n",
    "        update_pseudocosts(pc, T, last)\n",
    "\n",
    "assert node is None"
   ]
  },
  {
   "cell_type": "markdown",
   "id": "b18596d9",
   "metadata": {},
   "source": [
    "Plot the primal-dual bounds evolution, the value function paths, and the search tree for pseudocost branching"
   ]
  },
  {
   "cell_type": "code",
   "execution_count": null,
   "id": "aff261b0",
   "metadata": {},
   "outputs": [],
   "source": [
    "from matplotlib import pyplot as plt\n",
    "\n",
    "fig, ax = plt.subplots(1, 1, figsize=(5, 2), dpi=300)\n",
    "nn_pc, pv_pc, dv = map(np.array, zip(*T.graph[\"track\"]))\n",
    "ax.plot(dv)\n",
    "ax.plot(pv_pc)\n",
    "ax.axhline(sol.fun, zorder=-10, c=\"k\", alpha=0.25)"
   ]
  },
  {
   "cell_type": "code",
   "execution_count": null,
   "id": "6fd3bbef",
   "metadata": {},
   "outputs": [],
   "source": [
    "vfn = get_value_paths(T)\n",
    "\n",
    "fig, ax = plt.subplots(1, 1, figsize=(10, 4), dpi=120)\n",
    "for leaf, vf in vfn.items():\n",
    "    ax.plot(*zip(*vf), label=leaf, c=\"C0\", alpha=0.24)"
   ]
  },
  {
   "cell_type": "code",
   "execution_count": null,
   "id": "adc19bd9",
   "metadata": {},
   "outputs": [],
   "source": [
    "T_pc = T\n",
    "pos_pc = nx.nx_agraph.graphviz_layout(T_pc, prog=\"dot\", args=\"\")"
   ]
  },
  {
   "cell_type": "code",
   "execution_count": null,
   "id": "d0e8238f",
   "metadata": {},
   "outputs": [],
   "source": [
    "fig, ax = plt.subplots(1, 1, dpi=300)\n",
    "draw_tree(T_pc, pos_pc, ax)\n",
    "fig.savefig(\"pc_tree.pdf\")"
   ]
  },
  {
   "cell_type": "markdown",
   "id": "ea40467d",
   "metadata": {},
   "source": [
    "Use plotly"
   ]
  },
  {
   "cell_type": "code",
   "execution_count": null,
   "id": "91f7861b",
   "metadata": {},
   "outputs": [],
   "source": [
    "draw_tree_plolty(\n",
    "    T_pc,\n",
    "    pos_pc,\n",
    "    nodelist=None,\n",
    "    labels=node_nfo(T_pc, nn_pc),\n",
    ").show()"
   ]
  },
  {
   "cell_type": "markdown",
   "id": "d90b9036",
   "metadata": {},
   "source": [
    "Plot the final pseudocost estimate"
   ]
  },
  {
   "cell_type": "code",
   "execution_count": null,
   "id": "fc7fc4d7",
   "metadata": {},
   "outputs": [],
   "source": [
    "fig, ax = plt.subplots(1, 1, figsize=(5, 2), dpi=300)\n",
    "\n",
    "lo, up = acc_get_estimate(pc).T\n",
    "ax.plot(up / up.max(), label=\"up\")\n",
    "ax.plot(-lo / lo.max(), label=\"lo\")\n",
    "ax.legend(fontsize=\"xx-small\")"
   ]
  },
  {
   "cell_type": "markdown",
   "id": "ecab02af",
   "metadata": {},
   "source": [
    "<br>"
   ]
  },
  {
   "cell_type": "markdown",
   "id": "0a7958f8",
   "metadata": {},
   "source": [
    "### SCIP"
   ]
  },
  {
   "cell_type": "markdown",
   "id": "1075257c",
   "metadata": {},
   "source": [
    "We've got our own custom [build](https://github.com/ivannz/ecole) of ecole."
   ]
  },
  {
   "cell_type": "code",
   "execution_count": null,
   "id": "31a82364",
   "metadata": {},
   "outputs": [],
   "source": [
    "# import os, sys\n",
    "\n",
    "# sys.path.append(\n",
    "#     os.path.abspath(\"../../../repos_with_rl/copt/ecole/build/cmake/python/ecole\")\n",
    "# )\n",
    "\n",
    "import ecole as ec"
   ]
  },
  {
   "cell_type": "markdown",
   "id": "901c83b3",
   "metadata": {},
   "source": [
    "Let's use the tree tracer for SCIP\n",
    "* TracedBranching env subclass appears to be less elegant, than putting the tracing logic in a reward or information function"
   ]
  },
  {
   "cell_type": "code",
   "execution_count": null,
   "id": "ba58407f",
   "metadata": {},
   "outputs": [],
   "source": [
    "from ecole.environment import Branching\n",
    "from toybnb.scip.tracer import NegLogTreeSize\n",
    "\n",
    "\n",
    "scip_params = {\n",
    "    \"branching/scorefunc\": \"p\",\n",
    "    \"randomization/permuteconss\": False,\n",
    "    \"randomization/lpseed\": 27372012,\n",
    "    \"branching/random/seed\": 41,\n",
    "    \"branching/relpscost/startrandseed\": 5,\n",
    "}\n",
    "\n",
    "rew_tracer = NegLogTreeSize()\n",
    "\n",
    "env = Branching(\n",
    "    observation_function=(\n",
    "        ec.observation.NodeBipartite(),\n",
    "        ec.observation.StrongBranchingScores(),\n",
    "    ),\n",
    "    information_function=rew_tracer,\n",
    "    scip_params=scip_params,\n",
    ")"
   ]
  },
  {
   "cell_type": "markdown",
   "id": "23f478b9",
   "metadata": {},
   "source": [
    "Convert toy's MILP into SCIP's model"
   ]
  },
  {
   "cell_type": "code",
   "execution_count": null,
   "id": "991bc904",
   "metadata": {},
   "outputs": [],
   "source": [
    "fin = True\n",
    "it = ec.instance.CombinatorialAuctionGenerator()\n",
    "while fin:\n",
    "    mod = ec.scip.Model.from_pyscipopt(to_scip(p))\n",
    "    # mod = next(it)\n",
    "    mod.disable_presolve()\n",
    "    obs, act, rew, fin, nfo = env.reset(mod)\n",
    "    break\n",
    "\n",
    "assert not fin"
   ]
  },
  {
   "cell_type": "markdown",
   "id": "00790d44",
   "metadata": {},
   "source": [
    "Replicate the way [retro](https://arxiv.org/abs/2205.14345) decides fathomed nodes. We argue that it misrepresents the subset of fathomed nodes"
   ]
  },
  {
   "cell_type": "code",
   "execution_count": null,
   "id": "40758a5b",
   "metadata": {},
   "outputs": [],
   "source": [
    "from toybnb.scip.tracer import Tracer\n",
    "\n",
    "# https://github.com/scipopt/PySCIPOpt/blob/master/tests/test_tree.py#L42-L43\n",
    "# https://github.com/mattmilten/TreeD/blob/main/src/treed/treed.py#L12\n",
    "\n",
    "fathomed = set()\n",
    "\n",
    "\n",
    "def retro(self: Tracer) -> None:\n",
    "    \"\"\"Detecting fathomed nodes as in https://arxiv.org/abs/2205.14345\"\"\"\n",
    "    if len(self.trace_) < 2:\n",
    "        return\n",
    "\n",
    "    # bnb finished, check the last focus\n",
    "    if self.focus_ is None:\n",
    "        last, *_ = self.trace_[-1]\n",
    "        if not self.T[last]:\n",
    "            fathomed.add(last)\n",
    "        return\n",
    "\n",
    "    # the root may be visited twice, so we should not mark it as fathomed\n",
    "    last, *_ = self.trace_[-2]\n",
    "    if not self.T[last] and self.focus_ != last:\n",
    "        fathomed.add(last)"
   ]
  },
  {
   "cell_type": "markdown",
   "id": "56a794ff",
   "metadata": {},
   "source": [
    "SCIP is so much better than the thing we implemented, so there is little hope to see really deep trees on the problems, that toy can handle.\n",
    "\n",
    "SCIP beats the toy even with random branching."
   ]
  },
  {
   "cell_type": "code",
   "execution_count": null,
   "id": "9d113ecc",
   "metadata": {},
   "outputs": [],
   "source": [
    "from toybnb.scip.scip import from_scip_lp\n",
    "\n",
    "db = []\n",
    "fathomed.clear()\n",
    "with tqdm(ncols=70) as pb:\n",
    "    rng = default_rng()\n",
    "\n",
    "    obs, act, rew, fin, nfo = env.reset(mod)\n",
    "    m = env.model.as_pyscipopt()\n",
    "    retro(rew_tracer.tracer)\n",
    "    while not fin:\n",
    "        pb.update(1)\n",
    "        bi, sb = obs\n",
    "        db.append(m.getDualbound())\n",
    "\n",
    "        # read the local MILP at the focus node\n",
    "        # x = from_scip_lp(env.model.as_pyscipopt())\n",
    "\n",
    "        # pick a random index\n",
    "        var = rng.choice(act)  # obs[act], act\n",
    "\n",
    "        # or use sb scores\n",
    "        var = act[sb[act].argmax(-1)]\n",
    "        # branch\n",
    "        obs, act, rew, fin, nfo = env.step(var)\n",
    "        retro(rew_tracer.tracer)\n",
    "\n",
    "        m = env.model.as_pyscipopt()"
   ]
  },
  {
   "cell_type": "raw",
   "id": "0b3a825f",
   "metadata": {},
   "source": [
    "import pdb ; pdb.pm()"
   ]
  },
  {
   "cell_type": "code",
   "execution_count": null,
   "id": "08d1cc40",
   "metadata": {},
   "outputs": [],
   "source": [
    "from matplotlib import pyplot as plt\n",
    "\n",
    "fig, ax = plt.subplots(1, 1, dpi=300)\n",
    "nn_scip, pv_scip, dv = map(np.array, zip(*rew_tracer.tracer.trace_))\n",
    "ax.plot(dv)\n",
    "ax.plot(pv_scip)\n",
    "ax.plot(db)\n",
    "ax.axhline(sol.fun, zorder=-10, c=\"k\", alpha=0.25)"
   ]
  },
  {
   "cell_type": "code",
   "execution_count": null,
   "id": "facaf656",
   "metadata": {},
   "outputs": [],
   "source": [
    "T_scip = rew_tracer.tracer.T.copy()\n",
    "pos_scip = nx.nx_agraph.graphviz_layout(T_scip, prog=\"dot\", args=\"\")"
   ]
  },
  {
   "cell_type": "code",
   "execution_count": null,
   "id": "14ad7595",
   "metadata": {},
   "outputs": [],
   "source": [
    "lab = dict(zip(nn_scip, range(len(nn_scip))))"
   ]
  },
  {
   "cell_type": "code",
   "execution_count": null,
   "id": "20fe4f30",
   "metadata": {},
   "outputs": [],
   "source": [
    "st = nx.get_node_attributes(T_scip, \"status\")\n",
    "labels = {n: lab.get(n) for n in pos_scip if n in lab}  #  if st[n] == Status.CLOSED}\n",
    "\n",
    "for n in fathomed:\n",
    "    T_scip.nodes[n][\"status\"] = -999"
   ]
  },
  {
   "cell_type": "code",
   "execution_count": null,
   "id": "a36a66f3",
   "metadata": {
    "scrolled": false
   },
   "outputs": [],
   "source": [
    "fig, ax = plt.subplots(1, 1, dpi=300)\n",
    "draw_tree(T_scip, pos_scip, ax, nodelist=list(rew_tracer.tracer.fathomed_ | fathomed))\n",
    "\n",
    "artists = nx.draw_networkx_labels(T_scip, pos_scip, ax=ax, font_size=4, labels=labels)\n",
    "for t in artists.values():\n",
    "    t.set_zorder(10)\n",
    "fig.savefig(\"scip_tree.pdf\")"
   ]
  },
  {
   "cell_type": "markdown",
   "id": "2de22e0e",
   "metadata": {},
   "source": [
    "Use plotly"
   ]
  },
  {
   "cell_type": "raw",
   "id": "c50f00ca",
   "metadata": {},
   "source": [
    "draw_tree_plolty(\n",
    "    T_scip,\n",
    "    pos_scip,\n",
    "    nodelist=list(env.tracer.fathomed_ | fathomed),\n",
    "    labels=node_nfo(T_scip, nn_scip),\n",
    ").show()"
   ]
  },
  {
   "cell_type": "markdown",
   "id": "a9640929",
   "metadata": {},
   "source": [
    "How fast does each method decrease the primal bound?"
   ]
  },
  {
   "cell_type": "code",
   "execution_count": null,
   "id": "8a2465c4",
   "metadata": {},
   "outputs": [],
   "source": [
    "fig, ax = plt.subplots(1, 1, figsize=(5, 2), dpi=300)\n",
    "\n",
    "ax.semilogx(pv_rng, label=\"rng\", alpha=0.75)\n",
    "ax.semilogx(pv_rng_dfs, label=\"rng-dfs\", alpha=0.75)\n",
    "ax.semilogx(pv_sb, label=\"sb\", alpha=0.75)\n",
    "ax.semilogx(pv_pc, label=\"pc\", alpha=0.75)\n",
    "\n",
    "ax.semilogx(pv_scip, label=\"scip\", alpha=0.75)\n",
    "\n",
    "ax.axhline(sol.fun, zorder=-10, c=\"k\", alpha=0.25)\n",
    "ax.legend(fontsize=\"xx-small\", ncol=4)"
   ]
  },
  {
   "cell_type": "markdown",
   "id": "8925f388",
   "metadata": {},
   "source": [
    "<br>"
   ]
  },
  {
   "cell_type": "code",
   "execution_count": null,
   "id": "6ee59be8",
   "metadata": {},
   "outputs": [],
   "source": [
    "n = nn_scip[-1]  # nn_scip[264], nn_scip[267]\n",
    "while True:\n",
    "    print(T_scip[n])\n",
    "    for n in T_scip.pred[n]:\n",
    "        break\n",
    "\n",
    "    else:\n",
    "        break"
   ]
  },
  {
   "cell_type": "raw",
   "id": "4d82f2dd",
   "metadata": {},
   "source": [
    "lps = nx.get_node_attributes(T_scip, \"lp\")"
   ]
  },
  {
   "cell_type": "raw",
   "id": "5dcd23eb",
   "metadata": {
    "scrolled": false
   },
   "source": [
    "{n: lp for n, lp in lps.items() if lp.nit < 0}"
   ]
  },
  {
   "cell_type": "code",
   "execution_count": null,
   "id": "ebd45f97",
   "metadata": {},
   "outputs": [],
   "source": [
    "list(map(len, (T_rng, T_rng_dfs, T_sb, T_pc, T_scip)))"
   ]
  },
  {
   "cell_type": "markdown",
   "id": "76556778",
   "metadata": {},
   "source": [
    "<br>"
   ]
  },
  {
   "cell_type": "markdown",
   "id": "eef932d4",
   "metadata": {},
   "source": [
    "<br>"
   ]
  },
  {
   "cell_type": "code",
   "execution_count": null,
   "id": "64a7ee4e",
   "metadata": {},
   "outputs": [],
   "source": [
    "assert False"
   ]
  },
  {
   "cell_type": "markdown",
   "id": "c9d930f1",
   "metadata": {},
   "source": [
    "<br>"
   ]
  },
  {
   "cell_type": "markdown",
   "id": "2fce825f",
   "metadata": {},
   "source": [
    "# Log"
   ]
  },
  {
   "cell_type": "markdown",
   "id": "353f67f0",
   "metadata": {},
   "source": [
    "Reinventing the bicycle gives one better understanding of its inner workings and design.\n",
    "So in this notebook I re-implement a BnB algorithm for Mixed Integer Linear Programs.\n",
    "\n",
    "The following log is related to an earlier version and development of the toy bnb algorithm around the 8th of October, 2022.\n",
    "\n",
    "When doing this study i proceeded through the following steps:\n",
    "1. i started with defining a MILP specification format, that compatible with scipy's `linprog` API\n",
    "  * initially i used list of tuples format for lower/upper bounds, but then, after digging through the code of `scipy.optimize` i discovered that passing $n \\times 2$ numpy arrays with $\\pm\\infty$ works just fine (and is preferable, actually).\n",
    "\n",
    "2. then i implemented the key feasibility checkers\n",
    "  * bounding box $x_j \\in \\bigl[l_j, u_j\\bigr]$\n",
    "  * upper bound linear inequality constraints $A_\\mathrm{ub} x \\leq b_\\mathrm{ub}$\n",
    "  * linear equality constraints $A_\\mathrm{eq} x = b_\\mathrm{eq}$\n",
    "  * integer feasibility $x \\in \\mathbb{Z}^m \\times \\mathbb{R}^{n-m}$\n",
    "\n",
    "3. the `lpsolve` procedure, at first, dealt with list-of-tuples bounds, but was later reduced to an interface function\n",
    "\n",
    "4. then `new` and `add` functions were added. Initially, the lp relaxation was computed outside of `add`, but it was reasonable to put the step inside\n",
    "\n",
    "5. then i implemented the `bnb_begin` function (used to call `lpsolve`, before moving into `add`) and sketched the main loop of the bnb search: pruning by lower bound, picking the next node to process, and splitting (no infeasibility/integer feasibility fathoming yet). There i immediately started using the min-heap for pruning certifiably sub-optimal sub-problems.\n",
    "\n",
    "6. with adding incumbent tracking, wild random branching, and variable splitting blocks the loop's body grew ever larger. So i factored three procedures out of it: `bnb_prune`, `bnb_update_incumbent`, and `bnb_branch`.\n",
    "  - atm, we use a single global incumbent, but likely that the MILP has many solutions\n",
    "    - [ ] implement storage for the case when there is solution multiplicity (18th of November, 2022)\n",
    "  - [x] it would be structurally nice to make the stats more `recursive`, and let each node have its own set of incumbents that are best-so-far in that node's sub-problem.\n",
    "\n",
    "7. variable picking logic was then also moved outside of the branching routine\n",
    "\n",
    "8. i tinkered with a method to conveniently store branching rules' data and implemented node-local dunder attributes, that allowed the rules to be stateful\n",
    "  - [ ] add a mask that indicates which variables were branched on, so that if we ever want to mix up branching rules on the fly, that they can communicate each other's choices\n",
    "\n",
    "9. initially my bnb implementation __did not re-introduce__ not yet fully processed nodes into the dual bound max-heap, which resulted in sub-optimal solutions, since __not all branching alternatives were explored__.\n",
    "  - [x] currently the dual bound max-heap also serves as the sub-problem prioritizer. This has to change.\n",
    "  - this is the reason i decided to study bnb by _reinventing_ it: it was not clear to me, based on my tinkering with `ecole` and tree search retrieval by RETRO, how SCIP explored branching alternatives, if at all. Also i had a misconception about what gap it uses to gauge optimization progress.\n",
    "\n",
    "10. after many attempts to track the status of each node (global fathomed/pruned sets, local flags) it finally dawned on me to introduce common node status codes, that allowed finer tracking of fathomed nodes:\n",
    "  - __INFEASIBLE__: lp relaxation is infeasible, hence so the node's sub-problem is also infeasible\n",
    "  - __INTEGER FEASIBLE__: the relaxation produced a solution that satisfies the integrality constraints, hence a global optimum for the node's MILP sub-problem was found, and there is no need to process it further\n",
    "  - __PRUNED__: the lp produced a lower bound on all possible solutions to this node's MILP, that is higher than some integer feasible solution founds elsewhere. Thus we have a theoretical guarantee that it cannot contain a solution to the original root MILP.\n",
    "  - __CLOSED__ and __OPEN__: fully processed nodes or nodes that still have some un-branched fractional variables, respectively.\n",
    "  - status code greatly helped with debugging the search and understanding if it was operating correctly\n",
    "\n",
    "11. I added gap tracking, `bnb_scip_gap` as defined by SCIP, to monitor progress, and finally put together the `bnb_search` procedure from the bare loop, that was running in a cell\n",
    "\n",
    "12. (around 15th of October) Having become content with the slow but steady operation on the toy problems, i decided to apply this code on the crab allocation problem. This attempt failed miserably, since the algorithm worked way to slow. Even with the problem $56$ times smaller, the speed was still a huge issue. And the `linprog` solver was very unhappy with the allocation problem, complaining about its ill-posedness.\n",
    "  - Also strong branching preformed much worse than random branching, for some reason. I suspect the issue is with incorrect node prioritization (indeed it was in hindsight)\n",
    "\n",
    "13. I started experimenting with `presolve` in `scipy.optimize` sub-package, the code which i studied for hints at ways to improve the runtime. Serendipitously, i stumbled on the HiGHS linear solver, which tremendously sped up the procedure. Now at least the crab problem's gap started decreasing!\n",
    "\n",
    "14. I suspected that backtracking to a still open node and branching on another variable and then diving could potentially produce a sub-problem the lp feasibility of which is covered by the feasibility region of some other __already__ solved problem. I confirmed by suspicions by inspecting the bounding boxes of the sub-problems produced by the bnb.\n",
    "  - [ ] ~~we need to implement a lookup for solved sub-MILP that matches by covering bounding boxes (see `bnb_find_solved` stub and `bnb_update_interval_trees`)~~\n",
    "  - (18th of November, 2022) the problem of feasibility subset revisits was due to branching more than once from every open node (see below, and the newer description above)\n",
    "\n",
    "15. Started taking node scheduling responsibility off the dual bound max-heap\n",
    "  - [x] `bnb_schedule_node`, `bnb_select_node`\n",
    "  - it used to be that the `duals` max heap was automatically purged at the end of the bnb loop (removing FEASIBLE nodes by updating the incumbent and never rescheduling nodes, that were CLOSED)\n",
    "  \n",
    "16. testing feasibility by computing slacks $\\max\\{Ax - b, 0\\}$ to _zero_ is unnecessarily slow\n",
    "\n",
    "17. migrate the code into a python package\n",
    "\n",
    "18. change the order of node and branch selection calls, so as to make the search code more modular\n",
    "\n",
    "19. realize that there is NEVER a need to revisit an earlier branched node: the excluded region cannot contain an integer-feasible solution, even under splits by other variables!\n",
    "20. implemented control inversion (via python threading) for easier experimentation (around the 10th of November, 2022)\n"
   ]
  },
  {
   "cell_type": "markdown",
   "id": "d37043be",
   "metadata": {},
   "source": [
    "##### References\n",
    "* a well written master thesis on learning to branch [Scavuzzo Montana (2020)](https://repository.tudelft.nl/islandora/object/uuid:e1c09189-0b8f-470f-be99-1e1cf04f805e)\n",
    "* the phd thesis of the core developer of SCIP [Achterberg (2007)](https://depositonce.tu-berlin.de/items/9f46a10e-2f7b-4dea-8e27-9cae07de5258/full)\n",
    "* the original paper that proposes BnB [Benichou et al. (1979)](https://doi.org/10.1007/BF01584074)"
   ]
  },
  {
   "cell_type": "markdown",
   "id": "a6b5f7d1",
   "metadata": {},
   "source": [
    "<br>"
   ]
  },
  {
   "cell_type": "markdown",
   "id": "7969eeea",
   "metadata": {},
   "source": [
    "### on the lp solver backend"
   ]
  },
  {
   "cell_type": "markdown",
   "id": "a6ccbd52",
   "metadata": {},
   "source": [
    "`linprog` of `scipy.optimize` automatically presolves the problem and resolves redundancies.\n",
    "- we could use it to simplify the search\n",
    "- the parent-child sub-problems be nested __geometrically__, which __does not entail algebraic__ similarity"
   ]
  },
  {
   "cell_type": "markdown",
   "id": "4f3956a7",
   "metadata": {},
   "source": [
    "```python\n",
    "from copy import deepcopy\n",
    "from scipy.optimize._linprog_util import _presolve, _postsolve, _LPProblem\n",
    "    \n",
    "lp = _LPProblem(\n",
    "    p.c, p.A_ub, p.b_ub, p.A_eq, p.b_eq, p.bounds, None\n",
    ")\n",
    "lp_o = deepcopy(lp)\n",
    "\n",
    "# c0 is a constant term in the objective after presolve\n",
    "lp, c0, x, undo, complete, status, message = _presolve(\n",
    "    lp, True, None, tol=1e-9\n",
    ")\n",
    "\n",
    "x, fun, slack, con = _postsolve(\n",
    "    x, (lp_o._replace(bounds=lp.bounds), undo, 1, 1), complete\n",
    ")\n",
    "```"
   ]
  },
  {
   "cell_type": "markdown",
   "id": "2edf455c",
   "metadata": {},
   "source": [
    "When the solver is \"highs\" `linprog` from `scipy.optimize` passes the parsed (`_parse_linprog`), but unmodified problem directly to `_linprog_highs`.\n",
    "* it appears that `_getAbc` and other problem transformations are currently undergoing a deprecation cycle"
   ]
  },
  {
   "cell_type": "markdown",
   "id": "8955dd31",
   "metadata": {},
   "source": [
    "`_linprog_highs` transforms the problem from $\n",
    "    A_\\mathrm{ub} x \\leq b_\\mathrm{ub}\n",
    "$ to $\n",
    "    -\\infty \\leq A_\\mathrm{ub} x \\leq b_\\mathrm{ub}\n",
    "$ and $\n",
    "    A_\\mathrm{eq} x = b_\\mathrm{eq}\n",
    "$ to $\n",
    "    b_\\mathrm{eq} \\leq A_\\mathrm{eq} x \\leq b_\\mathrm{eq}\n",
    "$.\n",
    "\n",
    "```python\n",
    "from scipy.optimize._linprog_highs import _linprog_highs, _highs_wrapper\n",
    "```"
   ]
  },
  {
   "cell_type": "markdown",
   "id": "49ae6818",
   "metadata": {},
   "source": [
    "<br>"
   ]
  },
  {
   "cell_type": "markdown",
   "id": "99da9d6d",
   "metadata": {},
   "source": [
    "# Trunk"
   ]
  },
  {
   "cell_type": "markdown",
   "id": "011b9b1b",
   "metadata": {},
   "source": [
    "The bipartite observations from ecole"
   ]
  },
  {
   "cell_type": "code",
   "execution_count": null,
   "id": "4148db9a",
   "metadata": {},
   "outputs": [],
   "source": [
    "# 0 obj 1:4 type onehot 5 lb 6 ub 7 reduced cost\n",
    "# 8 lp-val 9 lp-frac 10 at lb 11 at ub 12 age\n",
    "# 13 incumbent-val 14 avg-incumbent-val 15:19 is_basis onehot\n",
    "bi.variable_features[0]"
   ]
  },
  {
   "cell_type": "code",
   "execution_count": null,
   "id": "728ab18c",
   "metadata": {},
   "outputs": [],
   "source": [
    "shape = len(bi.row_features), len(bi.variable_features)\n",
    "tab = sp.coo_array((bi.edge_features.values, bi.edge_features.indices), shape)\n",
    "bi.row_features.shape\n",
    "bi.variable_features[0]"
   ]
  },
  {
   "cell_type": "code",
   "execution_count": null,
   "id": "d8878726",
   "metadata": {},
   "outputs": [],
   "source": [
    "tab"
   ]
  },
  {
   "cell_type": "code",
   "execution_count": null,
   "id": "5e14af48",
   "metadata": {},
   "outputs": [],
   "source": [
    "plt.imshow(tab.toarray())"
   ]
  },
  {
   "cell_type": "code",
   "execution_count": null,
   "id": "a0612e7a",
   "metadata": {},
   "outputs": [],
   "source": [
    "cos = tab.dot(tab.T).toarray()\n",
    "plt.imshow(abs(cos))"
   ]
  },
  {
   "cell_type": "raw",
   "id": "0fbf491e",
   "metadata": {},
   "source": [
    "abs(cos).round(2)"
   ]
  },
  {
   "cell_type": "code",
   "execution_count": null,
   "id": "ebaa91fb",
   "metadata": {},
   "outputs": [],
   "source": [
    "from scipy import sparse as sp\n",
    "\n",
    "if \"x\" in globals() and isinstance(x, MILP):\n",
    "    A_ub = x.A_ub\n",
    "    n = sp.linalg.norm(A_ub, axis=-1, ord=2)\n",
    "    U = sp.diags(np.where(n > 0, 1 / n, 1.0)) * A_ub\n",
    "    cos = U.dot(U.T).toarray()\n",
    "\n",
    "    plt.imshow(abs(cos))"
   ]
  },
  {
   "cell_type": "markdown",
   "id": "a4938394",
   "metadata": {},
   "source": [
    "<br>"
   ]
  },
  {
   "cell_type": "markdown",
   "id": "6c8b1168",
   "metadata": {},
   "source": [
    "### Stepping through Ecole and the toy"
   ]
  },
  {
   "cell_type": "markdown",
   "id": "95cf8d10",
   "metadata": {},
   "source": [
    "A helper"
   ]
  },
  {
   "cell_type": "code",
   "execution_count": null,
   "id": "ac8eda2c",
   "metadata": {},
   "outputs": [],
   "source": [
    "def sp_csr_isclose(a, b):\n",
    "    assert sp.isspmatrix_csr(a) and sp.isspmatrix_csr(b)\n",
    "    return (\n",
    "        np.all(a.indptr == b.indptr)\n",
    "        and np.all(a.indices == b.indices)\n",
    "        and np.allclose(a.data, b.data)\n",
    "    )\n",
    "\n",
    "\n",
    "def milp_isclose(a: MILP, b: MILP) -> bool:\n",
    "    return (\n",
    "        sp_csr_isclose(a.A_ub, b.A_ub)\n",
    "        and np.allclose(a.b_ub, b.b_ub)\n",
    "        and sp_csr_isclose(a.A_eq, b.A_eq)\n",
    "        and np.allclose(a.b_eq, b.b_eq)\n",
    "        and np.allclose(a.c, b.c)\n",
    "    )"
   ]
  },
  {
   "cell_type": "markdown",
   "id": "8eadf836",
   "metadata": {},
   "source": [
    "The ecole env and our env diverge"
   ]
  },
  {
   "cell_type": "code",
   "execution_count": null,
   "id": "8a0f5c36",
   "metadata": {},
   "outputs": [],
   "source": [
    "from pyscipopt.scip import Model, Variable\n",
    "from toybnb.scip.scip import from_scip, from_scip_lp\n",
    "\n",
    "mod = ec.scip.Model.from_pyscipopt(to_scip(p))\n",
    "mod.disable_presolve()\n",
    "mod.disable_cuts()\n",
    "mod.transform_prob()\n",
    "\n",
    "(bi, obs), act, rew, fin, nfo = env.reset(mod)\n",
    "\n",
    "x = from_scip_lp(env.model.as_pyscipopt())\n",
    "it = branching(x)  # x = it.gi_frame.f_locals[\"p\"]\n",
    "\n",
    "\n",
    "n_it = 0\n",
    "G, node = it.send(None)\n",
    "while True:\n",
    "    n_it += 1\n",
    "\n",
    "    # Why, although scip's and toy's branching candidates have\n",
    "    #  diverged, do their LP problems still coincide?\n",
    "    m: Model = env.model.as_pyscipopt()\n",
    "    x0, x = x, from_scip_lp(m)\n",
    "    assert milp_isclose(x, x0)\n",
    "\n",
    "    # SCIP shuffles variables around, so we need a theirs- to\n",
    "    #  ours- alignment map\n",
    "    # XXX o2t: O \\to T, maps domain O into co-domain T\n",
    "    d_o = sorted(m.getVars(True), key=Variable.getIndex)\n",
    "    o2t = np.array([v.getCol().getLPPos() for v in d_o])\n",
    "    t2o = o2t.argsort()\n",
    "\n",
    "    # ours: branch based on the sb score\n",
    "    dt = T.nodes[node]\n",
    "\n",
    "    mask = np.unpackbits(dt[\"mask\"], count=dt[\"p\"].n, bitorder=\"little\")\n",
    "    cands = np.flatnonzero(mask)\n",
    "    gains, _ = get_lp_gains(dt[\"p\"], dt[\"lp\"], mask)\n",
    "    scores = gains[:, 0] * gains[:, 1]\n",
    "\n",
    "    if not (set(act) <= set(o2t[cands])):\n",
    "        break\n",
    "\n",
    "    if not np.allclose(scores, obs[o2t], equal_nan=True):\n",
    "        break\n",
    "\n",
    "    var = np.nanargmax(scores)\n",
    "\n",
    "    (bi, obs), act, rew, fin, nfo = env.step(o2t[var])\n",
    "    G, node = it.send(var)"
   ]
  },
  {
   "cell_type": "code",
   "execution_count": null,
   "id": "a2ec054a",
   "metadata": {},
   "outputs": [],
   "source": [
    "print(n_it)\n",
    "print(set(act) - set(o2t[cands]), set(o2t[cands]) - set(act))\n",
    "print(obs[o2t[cands]])\n",
    "print(scores[cands])\n",
    "print(obs[act])\n",
    "print(scores[t2o[act]])"
   ]
  },
  {
   "cell_type": "code",
   "execution_count": null,
   "id": "4cdfa4cb",
   "metadata": {},
   "outputs": [],
   "source": [
    "x.bounds"
   ]
  },
  {
   "cell_type": "code",
   "execution_count": null,
   "id": "6009ea22",
   "metadata": {},
   "outputs": [],
   "source": [
    "ecx = env.tracer.T.nodes[env.tracer.focus_][\"lp\"].x"
   ]
  },
  {
   "cell_type": "code",
   "execution_count": null,
   "id": "973fbda4",
   "metadata": {},
   "outputs": [],
   "source": [
    "[ecx[v.name] for v in d_o]"
   ]
  },
  {
   "cell_type": "markdown",
   "id": "6483b720",
   "metadata": {},
   "source": [
    "A proto hybrid nodesel"
   ]
  },
  {
   "cell_type": "code",
   "execution_count": null,
   "id": "f4f35e75",
   "metadata": {},
   "outputs": [],
   "source": [
    "from heapq import heappush, heappop, heapify\n",
    "from toybnb.tree import DualBound\n",
    "\n",
    "\n",
    "def least_dual_nodesel_init(G: nx.DiGraph) -> None:\n",
    "    pq, dt = G.graph[\"queue\"], G.nodes\n",
    "\n",
    "    pq[:] = [DualBound(dt[n][\"lp\"].fun, n) for n in pq]\n",
    "    heapify(pq)\n",
    "\n",
    "\n",
    "def least_dual_nodesel(G: nx.DiGraph, *reschedule: int) -> int:\n",
    "    pq, dt = G.graph[\"queue\"], G.nodes\n",
    "    for n in reschedule:\n",
    "        if dt[n][\"status\"] == Status.OPEN:\n",
    "            heappush(pq, DualBound(dt[n][\"lp\"].fun, n))\n",
    "\n",
    "    while pq:\n",
    "        n = heappop(pq).node\n",
    "        if dt[n][\"status\"] == Status.OPEN:\n",
    "            return n\n",
    "\n",
    "    raise IndexError\n",
    "\n",
    "\n",
    "def nodesel(G: nx.DiGraph, *reschedule: int) -> int:\n",
    "    if G.graph[\"incumbent\"].x is None:\n",
    "        return bnb.nodesel_dfs(G, *reschedule)\n",
    "\n",
    "    if \"_reheapified\" not in G.graph:\n",
    "        least_dual_nodesel_init(G)\n",
    "        G.graph[\"_reheapified\"] = True\n",
    "\n",
    "    return least_dual_nodesel(G, *reschedule)"
   ]
  },
  {
   "cell_type": "markdown",
   "id": "95aec323",
   "metadata": {},
   "source": [
    "<br>"
   ]
  },
  {
   "cell_type": "markdown",
   "id": "c703d65e",
   "metadata": {},
   "source": [
    "# Trunk"
   ]
  },
  {
   "cell_type": "markdown",
   "id": "aef62ca5",
   "metadata": {},
   "source": [
    "A helper function to find an existing node, the feasible region of\n",
    "which is a superset of the given MILP, and the solution of which is\n",
    "in the feasibility set of the MILP.\n",
    "\n",
    "Indeed, if $A \\subseteq B$ and $x_B \\in A$, where $\n",
    "    x_B \\in \\arg\\min\\{f(x) \\colon x \\in B\\}\n",
    "$, then $\n",
    "    x_B \\in \\arg\\min\\{f(x) \\colon x \\in A\\}\n",
    "$, i.e. $x_B$ solves the problem $A$.\n",
    "\n",
    "Hence, in order to reuse a previously solved problem $B$ for a problem $\n",
    "    \\min\\{f(x) \\colon x \\in A\\}\n",
    "$ we need to check whether $\n",
    "    x_B \\in A \\subseteq B\n",
    "$."
   ]
  },
  {
   "cell_type": "markdown",
   "id": "48b336f0",
   "metadata": {},
   "source": [
    "Note, that the second term in the condition we use to find suitable\n",
    "sub-problems is a simple point-set inclusion. Thus, we can\n",
    "1. filter all MILPs whose lp solution `lp.x` is feasible in the current sub-problem `p.bounds`\n",
    "2. among those, search for set-set inclusion using `is_feasible_box` (`.bounds`)"
   ]
  },
  {
   "cell_type": "markdown",
   "id": "01ef3a1a",
   "metadata": {},
   "source": [
    "We're dealing with $B$ $m$-dimensional boxes of the form $\n",
    "    \\prod_{j=1}^m [a_{bj}, z_{bj}]\n",
    "$ with $a_{bj} \\leq z_{bj}$, $b \\in B$. We wish to\n",
    "1. quickly add a new box $b$ to the data structure\n",
    "2. cheaply lookup all boxes $J \\subseteq B$ such that $b \\subseteq j$ for all $j \\in B$"
   ]
  },
  {
   "cell_type": "markdown",
   "id": "e99f74d7",
   "metadata": {},
   "source": [
    "A rectangle is a set of the form $\\prod_j A_j$, with $(A_j)_{j=1}^n$ given\n",
    "by closed intervals, possibly unbounded. We need to implement an algorithm,\n",
    "that efficiently finds at least one rectangle $R$ in a collection $\n",
    "    \\mathcal{R} = (R_k)_{k=1}^p\n",
    "$, such that the rectangle $Q$ is a __subset__ of $R$."
   ]
  },
  {
   "cell_type": "markdown",
   "id": "3fdeff65",
   "metadata": {},
   "source": [
    "<br>"
   ]
  }
 ],
 "metadata": {
  "kernelspec": {
   "display_name": "Python 3 (ipykernel)",
   "language": "python",
   "name": "python3"
  },
  "language_info": {
   "codemirror_mode": {
    "name": "ipython",
    "version": 3
   },
   "file_extension": ".py",
   "mimetype": "text/x-python",
   "name": "python",
   "nbconvert_exporter": "python",
   "pygments_lexer": "ipython3",
   "version": "3.10.6"
  }
 },
 "nbformat": 4,
 "nbformat_minor": 5
}
